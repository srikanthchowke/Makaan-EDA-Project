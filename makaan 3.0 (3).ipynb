{
 "cells": [
  {
   "cell_type": "code",
   "execution_count": 2,
   "id": "7fc31328",
   "metadata": {},
   "outputs": [],
   "source": [
    "import requests\n",
    "from bs4 import BeautifulSoup\n",
    "import pandas as pd\n",
    "import numpy as np\n",
    "import re\n",
    "import matplotlib.pyplot as plt\n",
    "import seaborn as sns"
   ]
  },
  {
   "cell_type": "code",
   "execution_count": 3,
   "id": "2e82a6be",
   "metadata": {},
   "outputs": [],
   "source": [
    "df=pd.read_csv(\"C:\\\\Users\\\\HP\\\\Downloads\\\\final_makaan123_df (1).csv\")"
   ]
  },
  {
   "cell_type": "code",
   "execution_count": 4,
   "id": "4d97ef89",
   "metadata": {},
   "outputs": [
    {
     "data": {
      "text/html": [
       "<div>\n",
       "<style scoped>\n",
       "    .dataframe tbody tr th:only-of-type {\n",
       "        vertical-align: middle;\n",
       "    }\n",
       "\n",
       "    .dataframe tbody tr th {\n",
       "        vertical-align: top;\n",
       "    }\n",
       "\n",
       "    .dataframe thead th {\n",
       "        text-align: right;\n",
       "    }\n",
       "</style>\n",
       "<table border=\"1\" class=\"dataframe\">\n",
       "  <thead>\n",
       "    <tr style=\"text-align: right;\">\n",
       "      <th></th>\n",
       "      <th>Unnamed: 0</th>\n",
       "      <th>BUILDERS</th>\n",
       "      <th>SIZE</th>\n",
       "      <th>PROPERTY_TYPE</th>\n",
       "      <th>PROPERTY_ADDRESS</th>\n",
       "      <th>CITY</th>\n",
       "      <th>AREA</th>\n",
       "      <th>RATE_SQFT</th>\n",
       "      <th>PRICE</th>\n",
       "      <th>CONSTRUCTION_STATUS</th>\n",
       "      <th>LISTED_BY</th>\n",
       "    </tr>\n",
       "  </thead>\n",
       "  <tbody>\n",
       "    <tr>\n",
       "      <th>0</th>\n",
       "      <td>0</td>\n",
       "      <td>Ashoka Builders India Private LimitedBUILDER0</td>\n",
       "      <td>3 BHK</td>\n",
       "      <td>Apartment</td>\n",
       "      <td>Nanakramguda</td>\n",
       "      <td>Hyderabad</td>\n",
       "      <td>1870</td>\n",
       "      <td>9,499</td>\n",
       "      <td>1.77 Cr</td>\n",
       "      <td>Under Construction</td>\n",
       "      <td>BUILDER</td>\n",
       "    </tr>\n",
       "    <tr>\n",
       "      <th>1</th>\n",
       "      <td>1</td>\n",
       "      <td>Sunyuga Infra Pvt LtdBUILDER0</td>\n",
       "      <td>4 BHK</td>\n",
       "      <td>Villa</td>\n",
       "      <td>Gundlapochampally</td>\n",
       "      <td>Hyderabad</td>\n",
       "      <td>3587</td>\n",
       "      <td>8,300</td>\n",
       "      <td>2.97 Cr</td>\n",
       "      <td>Under Construction</td>\n",
       "      <td>BUILDER</td>\n",
       "    </tr>\n",
       "    <tr>\n",
       "      <th>2</th>\n",
       "      <td>2</td>\n",
       "      <td>Raghuram Pradeep Constructions India LLPBUILDER0</td>\n",
       "      <td>4 BHK</td>\n",
       "      <td>Apartment</td>\n",
       "      <td>Puppalaguda</td>\n",
       "      <td>Hyderabad</td>\n",
       "      <td>3715</td>\n",
       "      <td>10,891</td>\n",
       "      <td>4.04 Cr</td>\n",
       "      <td>Under Construction</td>\n",
       "      <td>BUILDER</td>\n",
       "    </tr>\n",
       "    <tr>\n",
       "      <th>3</th>\n",
       "      <td>3</td>\n",
       "      <td>Kalyan Infra ProjectsBUILDER0</td>\n",
       "      <td>3 BHK</td>\n",
       "      <td>Apartment</td>\n",
       "      <td>Manchirevula</td>\n",
       "      <td>Hyderabad</td>\n",
       "      <td>2150</td>\n",
       "      <td>6,800</td>\n",
       "      <td>1.46 Cr</td>\n",
       "      <td>Ready to move</td>\n",
       "      <td>BUILDER</td>\n",
       "    </tr>\n",
       "    <tr>\n",
       "      <th>4</th>\n",
       "      <td>4</td>\n",
       "      <td>Risinia BuildersBUILDER0</td>\n",
       "      <td>2 BHK</td>\n",
       "      <td>Apartment</td>\n",
       "      <td>Pragathi</td>\n",
       "      <td>Hyderabad</td>\n",
       "      <td>1312</td>\n",
       "      <td>5,599</td>\n",
       "      <td>73.45 L</td>\n",
       "      <td>Under Construction</td>\n",
       "      <td>BUILDER</td>\n",
       "    </tr>\n",
       "    <tr>\n",
       "      <th>...</th>\n",
       "      <td>...</td>\n",
       "      <td>...</td>\n",
       "      <td>...</td>\n",
       "      <td>...</td>\n",
       "      <td>...</td>\n",
       "      <td>...</td>\n",
       "      <td>...</td>\n",
       "      <td>...</td>\n",
       "      <td>...</td>\n",
       "      <td>...</td>\n",
       "      <td>...</td>\n",
       "    </tr>\n",
       "    <tr>\n",
       "      <th>1975</th>\n",
       "      <td>1975</td>\n",
       "      <td>Full Basket property services Pvt ltdAGENT0</td>\n",
       "      <td>2 BHK</td>\n",
       "      <td>Apartment</td>\n",
       "      <td>Sholinganallur</td>\n",
       "      <td>Chennai</td>\n",
       "      <td>976</td>\n",
       "      <td>11,142</td>\n",
       "      <td>1.08 Cr</td>\n",
       "      <td>Ready to move</td>\n",
       "      <td>AGENT</td>\n",
       "    </tr>\n",
       "    <tr>\n",
       "      <th>1976</th>\n",
       "      <td>1976</td>\n",
       "      <td>Full Basket property services Pvt ltdAGENT0</td>\n",
       "      <td>2 BHK</td>\n",
       "      <td>Apartment</td>\n",
       "      <td>Sholinganallur</td>\n",
       "      <td>Chennai</td>\n",
       "      <td>923</td>\n",
       "      <td>11,050</td>\n",
       "      <td>1.02 Cr</td>\n",
       "      <td>Ready to move</td>\n",
       "      <td>AGENT</td>\n",
       "    </tr>\n",
       "    <tr>\n",
       "      <th>1977</th>\n",
       "      <td>1977</td>\n",
       "      <td>Full Basket property services Pvt ltdAGENT0</td>\n",
       "      <td>2 BHK</td>\n",
       "      <td>Apartment</td>\n",
       "      <td>Sholinganallur</td>\n",
       "      <td>Chennai</td>\n",
       "      <td>923</td>\n",
       "      <td>11,050</td>\n",
       "      <td>1.02 Cr</td>\n",
       "      <td>Ready to move</td>\n",
       "      <td>AGENT</td>\n",
       "    </tr>\n",
       "    <tr>\n",
       "      <th>1978</th>\n",
       "      <td>1978</td>\n",
       "      <td>Full Basket property services Pvt ltdAGENT0</td>\n",
       "      <td>2 BHK</td>\n",
       "      <td>Apartment</td>\n",
       "      <td>Sholinganallur</td>\n",
       "      <td>Chennai</td>\n",
       "      <td>843</td>\n",
       "      <td>10,156</td>\n",
       "      <td>85.61 L</td>\n",
       "      <td>Ready to move</td>\n",
       "      <td>AGENT</td>\n",
       "    </tr>\n",
       "    <tr>\n",
       "      <th>1979</th>\n",
       "      <td>1979</td>\n",
       "      <td>Full Basket property services Pvt ltdAGENT0</td>\n",
       "      <td>2 BHK</td>\n",
       "      <td>Apartment</td>\n",
       "      <td>Sholinganallur</td>\n",
       "      <td>Chennai</td>\n",
       "      <td>843</td>\n",
       "      <td>10,156</td>\n",
       "      <td>85.61 L</td>\n",
       "      <td>Ready to move</td>\n",
       "      <td>AGENT</td>\n",
       "    </tr>\n",
       "  </tbody>\n",
       "</table>\n",
       "<p>1980 rows × 11 columns</p>\n",
       "</div>"
      ],
      "text/plain": [
       "      Unnamed: 0                                          BUILDERS   SIZE  \\\n",
       "0              0     Ashoka Builders India Private LimitedBUILDER0  3 BHK   \n",
       "1              1                     Sunyuga Infra Pvt LtdBUILDER0  4 BHK   \n",
       "2              2  Raghuram Pradeep Constructions India LLPBUILDER0  4 BHK   \n",
       "3              3                     Kalyan Infra ProjectsBUILDER0  3 BHK   \n",
       "4              4                          Risinia BuildersBUILDER0  2 BHK   \n",
       "...          ...                                               ...    ...   \n",
       "1975        1975       Full Basket property services Pvt ltdAGENT0  2 BHK   \n",
       "1976        1976       Full Basket property services Pvt ltdAGENT0  2 BHK   \n",
       "1977        1977       Full Basket property services Pvt ltdAGENT0  2 BHK   \n",
       "1978        1978       Full Basket property services Pvt ltdAGENT0  2 BHK   \n",
       "1979        1979       Full Basket property services Pvt ltdAGENT0  2 BHK   \n",
       "\n",
       "     PROPERTY_TYPE   PROPERTY_ADDRESS       CITY  AREA RATE_SQFT     PRICE  \\\n",
       "0        Apartment       Nanakramguda  Hyderabad  1870     9,499   1.77 Cr   \n",
       "1            Villa  Gundlapochampally  Hyderabad  3587     8,300   2.97 Cr   \n",
       "2        Apartment        Puppalaguda  Hyderabad  3715    10,891   4.04 Cr   \n",
       "3        Apartment       Manchirevula  Hyderabad  2150     6,800   1.46 Cr   \n",
       "4        Apartment           Pragathi  Hyderabad  1312     5,599   73.45 L   \n",
       "...            ...                ...        ...   ...       ...       ...   \n",
       "1975     Apartment     Sholinganallur    Chennai   976    11,142   1.08 Cr   \n",
       "1976     Apartment     Sholinganallur    Chennai   923    11,050   1.02 Cr   \n",
       "1977     Apartment     Sholinganallur    Chennai   923    11,050   1.02 Cr   \n",
       "1978     Apartment     Sholinganallur    Chennai   843    10,156   85.61 L   \n",
       "1979     Apartment     Sholinganallur    Chennai   843    10,156   85.61 L   \n",
       "\n",
       "     CONSTRUCTION_STATUS LISTED_BY  \n",
       "0     Under Construction   BUILDER  \n",
       "1     Under Construction   BUILDER  \n",
       "2     Under Construction   BUILDER  \n",
       "3          Ready to move   BUILDER  \n",
       "4     Under Construction   BUILDER  \n",
       "...                  ...       ...  \n",
       "1975       Ready to move     AGENT  \n",
       "1976       Ready to move     AGENT  \n",
       "1977       Ready to move     AGENT  \n",
       "1978       Ready to move     AGENT  \n",
       "1979       Ready to move     AGENT  \n",
       "\n",
       "[1980 rows x 11 columns]"
      ]
     },
     "execution_count": 4,
     "metadata": {},
     "output_type": "execute_result"
    }
   ],
   "source": [
    "df"
   ]
  },
  {
   "cell_type": "code",
   "execution_count": 5,
   "id": "69bbd6b5",
   "metadata": {},
   "outputs": [],
   "source": [
    "#df.drop(columns=['Unnamed: 0'],inplace=True)"
   ]
  },
  {
   "cell_type": "code",
   "execution_count": 6,
   "id": "0d24ae29",
   "metadata": {},
   "outputs": [
    {
     "data": {
      "text/plain": [
       "Unnamed: 0             0\n",
       "BUILDERS               0\n",
       "SIZE                   0\n",
       "PROPERTY_TYPE          0\n",
       "PROPERTY_ADDRESS       0\n",
       "CITY                   0\n",
       "AREA                   0\n",
       "RATE_SQFT              0\n",
       "PRICE                  0\n",
       "CONSTRUCTION_STATUS    0\n",
       "LISTED_BY              0\n",
       "dtype: int64"
      ]
     },
     "execution_count": 6,
     "metadata": {},
     "output_type": "execute_result"
    }
   ],
   "source": [
    "## There is no null values in my dataframe\n",
    "df.isna().sum()"
   ]
  },
  {
   "cell_type": "code",
   "execution_count": 7,
   "id": "74ed925c",
   "metadata": {},
   "outputs": [
    {
     "data": {
      "text/html": [
       "<div>\n",
       "<style scoped>\n",
       "    .dataframe tbody tr th:only-of-type {\n",
       "        vertical-align: middle;\n",
       "    }\n",
       "\n",
       "    .dataframe tbody tr th {\n",
       "        vertical-align: top;\n",
       "    }\n",
       "\n",
       "    .dataframe thead th {\n",
       "        text-align: right;\n",
       "    }\n",
       "</style>\n",
       "<table border=\"1\" class=\"dataframe\">\n",
       "  <thead>\n",
       "    <tr style=\"text-align: right;\">\n",
       "      <th></th>\n",
       "      <th>Unnamed: 0</th>\n",
       "      <th>BUILDERS</th>\n",
       "      <th>SIZE</th>\n",
       "      <th>PROPERTY_TYPE</th>\n",
       "      <th>PROPERTY_ADDRESS</th>\n",
       "      <th>CITY</th>\n",
       "      <th>AREA</th>\n",
       "      <th>RATE_SQFT</th>\n",
       "      <th>PRICE</th>\n",
       "      <th>CONSTRUCTION_STATUS</th>\n",
       "      <th>LISTED_BY</th>\n",
       "    </tr>\n",
       "  </thead>\n",
       "  <tbody>\n",
       "  </tbody>\n",
       "</table>\n",
       "</div>"
      ],
      "text/plain": [
       "Empty DataFrame\n",
       "Columns: [Unnamed: 0, BUILDERS, SIZE, PROPERTY_TYPE, PROPERTY_ADDRESS, CITY, AREA, RATE_SQFT, PRICE, CONSTRUCTION_STATUS, LISTED_BY]\n",
       "Index: []"
      ]
     },
     "execution_count": 7,
     "metadata": {},
     "output_type": "execute_result"
    }
   ],
   "source": [
    "# There is some duplicates values in my dataframe\n",
    "df[df.duplicated()] "
   ]
  },
  {
   "cell_type": "code",
   "execution_count": 8,
   "id": "546bdd83",
   "metadata": {},
   "outputs": [],
   "source": [
    "# There is no duplicates now values in my dataframe\n",
    "df=df.drop_duplicates()"
   ]
  },
  {
   "cell_type": "code",
   "execution_count": 9,
   "id": "d5be379a",
   "metadata": {},
   "outputs": [
    {
     "name": "stdout",
     "output_type": "stream",
     "text": [
      "<class 'pandas.core.frame.DataFrame'>\n",
      "RangeIndex: 1980 entries, 0 to 1979\n",
      "Data columns (total 11 columns):\n",
      " #   Column               Non-Null Count  Dtype \n",
      "---  ------               --------------  ----- \n",
      " 0   Unnamed: 0           1980 non-null   int64 \n",
      " 1   BUILDERS             1980 non-null   object\n",
      " 2   SIZE                 1980 non-null   object\n",
      " 3   PROPERTY_TYPE        1980 non-null   object\n",
      " 4   PROPERTY_ADDRESS     1980 non-null   object\n",
      " 5   CITY                 1980 non-null   object\n",
      " 6   AREA                 1980 non-null   int64 \n",
      " 7   RATE_SQFT            1980 non-null   object\n",
      " 8   PRICE                1980 non-null   object\n",
      " 9   CONSTRUCTION_STATUS  1980 non-null   object\n",
      " 10  LISTED_BY            1980 non-null   object\n",
      "dtypes: int64(2), object(9)\n",
      "memory usage: 170.3+ KB\n"
     ]
    }
   ],
   "source": [
    "df.info()"
   ]
  },
  {
   "cell_type": "code",
   "execution_count": 10,
   "id": "580867ce",
   "metadata": {},
   "outputs": [
    {
     "data": {
      "text/html": [
       "<div>\n",
       "<style scoped>\n",
       "    .dataframe tbody tr th:only-of-type {\n",
       "        vertical-align: middle;\n",
       "    }\n",
       "\n",
       "    .dataframe tbody tr th {\n",
       "        vertical-align: top;\n",
       "    }\n",
       "\n",
       "    .dataframe thead th {\n",
       "        text-align: right;\n",
       "    }\n",
       "</style>\n",
       "<table border=\"1\" class=\"dataframe\">\n",
       "  <thead>\n",
       "    <tr style=\"text-align: right;\">\n",
       "      <th></th>\n",
       "      <th>Unnamed: 0</th>\n",
       "      <th>BUILDERS</th>\n",
       "      <th>SIZE</th>\n",
       "      <th>PROPERTY_TYPE</th>\n",
       "      <th>PROPERTY_ADDRESS</th>\n",
       "      <th>CITY</th>\n",
       "      <th>AREA</th>\n",
       "      <th>RATE_SQFT</th>\n",
       "      <th>PRICE</th>\n",
       "      <th>CONSTRUCTION_STATUS</th>\n",
       "      <th>LISTED_BY</th>\n",
       "    </tr>\n",
       "  </thead>\n",
       "  <tbody>\n",
       "    <tr>\n",
       "      <th>0</th>\n",
       "      <td>0</td>\n",
       "      <td>Ashoka Builders India Private LimitedBUILDER0</td>\n",
       "      <td>3 BHK</td>\n",
       "      <td>Apartment</td>\n",
       "      <td>Nanakramguda</td>\n",
       "      <td>Hyderabad</td>\n",
       "      <td>1870</td>\n",
       "      <td>9,499</td>\n",
       "      <td>1.77 Cr</td>\n",
       "      <td>Under Construction</td>\n",
       "      <td>BUILDER</td>\n",
       "    </tr>\n",
       "    <tr>\n",
       "      <th>1</th>\n",
       "      <td>1</td>\n",
       "      <td>Sunyuga Infra Pvt LtdBUILDER0</td>\n",
       "      <td>4 BHK</td>\n",
       "      <td>Villa</td>\n",
       "      <td>Gundlapochampally</td>\n",
       "      <td>Hyderabad</td>\n",
       "      <td>3587</td>\n",
       "      <td>8,300</td>\n",
       "      <td>2.97 Cr</td>\n",
       "      <td>Under Construction</td>\n",
       "      <td>BUILDER</td>\n",
       "    </tr>\n",
       "    <tr>\n",
       "      <th>2</th>\n",
       "      <td>2</td>\n",
       "      <td>Raghuram Pradeep Constructions India LLPBUILDER0</td>\n",
       "      <td>4 BHK</td>\n",
       "      <td>Apartment</td>\n",
       "      <td>Puppalaguda</td>\n",
       "      <td>Hyderabad</td>\n",
       "      <td>3715</td>\n",
       "      <td>10,891</td>\n",
       "      <td>4.04 Cr</td>\n",
       "      <td>Under Construction</td>\n",
       "      <td>BUILDER</td>\n",
       "    </tr>\n",
       "    <tr>\n",
       "      <th>3</th>\n",
       "      <td>3</td>\n",
       "      <td>Kalyan Infra ProjectsBUILDER0</td>\n",
       "      <td>3 BHK</td>\n",
       "      <td>Apartment</td>\n",
       "      <td>Manchirevula</td>\n",
       "      <td>Hyderabad</td>\n",
       "      <td>2150</td>\n",
       "      <td>6,800</td>\n",
       "      <td>1.46 Cr</td>\n",
       "      <td>Ready to move</td>\n",
       "      <td>BUILDER</td>\n",
       "    </tr>\n",
       "    <tr>\n",
       "      <th>4</th>\n",
       "      <td>4</td>\n",
       "      <td>Risinia BuildersBUILDER0</td>\n",
       "      <td>2 BHK</td>\n",
       "      <td>Apartment</td>\n",
       "      <td>Pragathi</td>\n",
       "      <td>Hyderabad</td>\n",
       "      <td>1312</td>\n",
       "      <td>5,599</td>\n",
       "      <td>73.45 L</td>\n",
       "      <td>Under Construction</td>\n",
       "      <td>BUILDER</td>\n",
       "    </tr>\n",
       "    <tr>\n",
       "      <th>...</th>\n",
       "      <td>...</td>\n",
       "      <td>...</td>\n",
       "      <td>...</td>\n",
       "      <td>...</td>\n",
       "      <td>...</td>\n",
       "      <td>...</td>\n",
       "      <td>...</td>\n",
       "      <td>...</td>\n",
       "      <td>...</td>\n",
       "      <td>...</td>\n",
       "      <td>...</td>\n",
       "    </tr>\n",
       "    <tr>\n",
       "      <th>1975</th>\n",
       "      <td>1975</td>\n",
       "      <td>Full Basket property services Pvt ltdAGENT0</td>\n",
       "      <td>2 BHK</td>\n",
       "      <td>Apartment</td>\n",
       "      <td>Sholinganallur</td>\n",
       "      <td>Chennai</td>\n",
       "      <td>976</td>\n",
       "      <td>11,142</td>\n",
       "      <td>1.08 Cr</td>\n",
       "      <td>Ready to move</td>\n",
       "      <td>AGENT</td>\n",
       "    </tr>\n",
       "    <tr>\n",
       "      <th>1976</th>\n",
       "      <td>1976</td>\n",
       "      <td>Full Basket property services Pvt ltdAGENT0</td>\n",
       "      <td>2 BHK</td>\n",
       "      <td>Apartment</td>\n",
       "      <td>Sholinganallur</td>\n",
       "      <td>Chennai</td>\n",
       "      <td>923</td>\n",
       "      <td>11,050</td>\n",
       "      <td>1.02 Cr</td>\n",
       "      <td>Ready to move</td>\n",
       "      <td>AGENT</td>\n",
       "    </tr>\n",
       "    <tr>\n",
       "      <th>1977</th>\n",
       "      <td>1977</td>\n",
       "      <td>Full Basket property services Pvt ltdAGENT0</td>\n",
       "      <td>2 BHK</td>\n",
       "      <td>Apartment</td>\n",
       "      <td>Sholinganallur</td>\n",
       "      <td>Chennai</td>\n",
       "      <td>923</td>\n",
       "      <td>11,050</td>\n",
       "      <td>1.02 Cr</td>\n",
       "      <td>Ready to move</td>\n",
       "      <td>AGENT</td>\n",
       "    </tr>\n",
       "    <tr>\n",
       "      <th>1978</th>\n",
       "      <td>1978</td>\n",
       "      <td>Full Basket property services Pvt ltdAGENT0</td>\n",
       "      <td>2 BHK</td>\n",
       "      <td>Apartment</td>\n",
       "      <td>Sholinganallur</td>\n",
       "      <td>Chennai</td>\n",
       "      <td>843</td>\n",
       "      <td>10,156</td>\n",
       "      <td>85.61 L</td>\n",
       "      <td>Ready to move</td>\n",
       "      <td>AGENT</td>\n",
       "    </tr>\n",
       "    <tr>\n",
       "      <th>1979</th>\n",
       "      <td>1979</td>\n",
       "      <td>Full Basket property services Pvt ltdAGENT0</td>\n",
       "      <td>2 BHK</td>\n",
       "      <td>Apartment</td>\n",
       "      <td>Sholinganallur</td>\n",
       "      <td>Chennai</td>\n",
       "      <td>843</td>\n",
       "      <td>10,156</td>\n",
       "      <td>85.61 L</td>\n",
       "      <td>Ready to move</td>\n",
       "      <td>AGENT</td>\n",
       "    </tr>\n",
       "  </tbody>\n",
       "</table>\n",
       "<p>1980 rows × 11 columns</p>\n",
       "</div>"
      ],
      "text/plain": [
       "      Unnamed: 0                                          BUILDERS   SIZE  \\\n",
       "0              0     Ashoka Builders India Private LimitedBUILDER0  3 BHK   \n",
       "1              1                     Sunyuga Infra Pvt LtdBUILDER0  4 BHK   \n",
       "2              2  Raghuram Pradeep Constructions India LLPBUILDER0  4 BHK   \n",
       "3              3                     Kalyan Infra ProjectsBUILDER0  3 BHK   \n",
       "4              4                          Risinia BuildersBUILDER0  2 BHK   \n",
       "...          ...                                               ...    ...   \n",
       "1975        1975       Full Basket property services Pvt ltdAGENT0  2 BHK   \n",
       "1976        1976       Full Basket property services Pvt ltdAGENT0  2 BHK   \n",
       "1977        1977       Full Basket property services Pvt ltdAGENT0  2 BHK   \n",
       "1978        1978       Full Basket property services Pvt ltdAGENT0  2 BHK   \n",
       "1979        1979       Full Basket property services Pvt ltdAGENT0  2 BHK   \n",
       "\n",
       "     PROPERTY_TYPE   PROPERTY_ADDRESS       CITY  AREA RATE_SQFT     PRICE  \\\n",
       "0        Apartment       Nanakramguda  Hyderabad  1870     9,499   1.77 Cr   \n",
       "1            Villa  Gundlapochampally  Hyderabad  3587     8,300   2.97 Cr   \n",
       "2        Apartment        Puppalaguda  Hyderabad  3715    10,891   4.04 Cr   \n",
       "3        Apartment       Manchirevula  Hyderabad  2150     6,800   1.46 Cr   \n",
       "4        Apartment           Pragathi  Hyderabad  1312     5,599   73.45 L   \n",
       "...            ...                ...        ...   ...       ...       ...   \n",
       "1975     Apartment     Sholinganallur    Chennai   976    11,142   1.08 Cr   \n",
       "1976     Apartment     Sholinganallur    Chennai   923    11,050   1.02 Cr   \n",
       "1977     Apartment     Sholinganallur    Chennai   923    11,050   1.02 Cr   \n",
       "1978     Apartment     Sholinganallur    Chennai   843    10,156   85.61 L   \n",
       "1979     Apartment     Sholinganallur    Chennai   843    10,156   85.61 L   \n",
       "\n",
       "     CONSTRUCTION_STATUS LISTED_BY  \n",
       "0     Under Construction   BUILDER  \n",
       "1     Under Construction   BUILDER  \n",
       "2     Under Construction   BUILDER  \n",
       "3          Ready to move   BUILDER  \n",
       "4     Under Construction   BUILDER  \n",
       "...                  ...       ...  \n",
       "1975       Ready to move     AGENT  \n",
       "1976       Ready to move     AGENT  \n",
       "1977       Ready to move     AGENT  \n",
       "1978       Ready to move     AGENT  \n",
       "1979       Ready to move     AGENT  \n",
       "\n",
       "[1980 rows x 11 columns]"
      ]
     },
     "execution_count": 10,
     "metadata": {},
     "output_type": "execute_result"
    }
   ],
   "source": [
    "df"
   ]
  },
  {
   "cell_type": "code",
   "execution_count": 11,
   "id": "b800f541",
   "metadata": {},
   "outputs": [
    {
     "name": "stdout",
     "output_type": "stream",
     "text": [
      "<class 'pandas.core.frame.DataFrame'>\n",
      "RangeIndex: 1980 entries, 0 to 1979\n",
      "Data columns (total 11 columns):\n",
      " #   Column               Non-Null Count  Dtype \n",
      "---  ------               --------------  ----- \n",
      " 0   Unnamed: 0           1980 non-null   int64 \n",
      " 1   BUILDERS             1980 non-null   object\n",
      " 2   SIZE                 1980 non-null   object\n",
      " 3   PROPERTY_TYPE        1980 non-null   object\n",
      " 4   PROPERTY_ADDRESS     1980 non-null   object\n",
      " 5   CITY                 1980 non-null   object\n",
      " 6   AREA                 1980 non-null   int64 \n",
      " 7   RATE_SQFT            1980 non-null   object\n",
      " 8   PRICE                1980 non-null   object\n",
      " 9   CONSTRUCTION_STATUS  1980 non-null   object\n",
      " 10  LISTED_BY            1980 non-null   object\n",
      "dtypes: int64(2), object(9)\n",
      "memory usage: 170.3+ KB\n"
     ]
    }
   ],
   "source": [
    "df.info()"
   ]
  },
  {
   "cell_type": "markdown",
   "id": "216a57e8",
   "metadata": {},
   "source": [
    "# unique & nunique values checking in every column"
   ]
  },
  {
   "cell_type": "code",
   "execution_count": 12,
   "id": "103b81c7",
   "metadata": {},
   "outputs": [
    {
     "data": {
      "text/plain": [
       "191"
      ]
     },
     "execution_count": 12,
     "metadata": {},
     "output_type": "execute_result"
    }
   ],
   "source": [
    "df['BUILDERS'].nunique()"
   ]
  },
  {
   "cell_type": "code",
   "execution_count": 13,
   "id": "3c33bcf2",
   "metadata": {},
   "outputs": [
    {
     "data": {
      "text/plain": [
       "BUILDERS\n",
       "ProptigerCity Expert â§ AGENT4.81 Rating    534\n",
       "B Kumar and BrothersAGENT0                   291\n",
       "ProptigerAGENT0                              267\n",
       "Hallmark BuildersBUILDER0                     49\n",
       "Salarpuria SattvaBUILDER0                     37\n",
       "                                            ... \n",
       "PrashantOWNER                                  1\n",
       "S Square RealityAGENT0                         1\n",
       "pushpaOWNER                                    1\n",
       "RiteshAGENT0                                   1\n",
       "Sri Vyshnavi EnterprisesAGENT0                 1\n",
       "Name: count, Length: 191, dtype: int64"
      ]
     },
     "execution_count": 13,
     "metadata": {},
     "output_type": "execute_result"
    }
   ],
   "source": [
    "df['BUILDERS'].value_counts()"
   ]
  },
  {
   "cell_type": "code",
   "execution_count": 14,
   "id": "31b9a34f",
   "metadata": {},
   "outputs": [
    {
     "data": {
      "text/plain": [
       "array(['Ashoka Builders India Private LimitedBUILDER0',\n",
       "       'Sunyuga Infra Pvt LtdBUILDER0',\n",
       "       'Raghuram Pradeep Constructions India LLPBUILDER0',\n",
       "       'Kalyan Infra ProjectsBUILDER0', 'Risinia BuildersBUILDER0',\n",
       "       'MKT Praneeth HomesBUILDER0', 'APR GroupBUILDER0',\n",
       "       'Praneeth GroupBUILDER0', 'GHR InfraBUILDER0',\n",
       "       'Greenmark DevelopersBUILDER0', 'Hallmark BuildersBUILDER0',\n",
       "       'Aavasa ConstructionsBUILDER0',\n",
       "       'Theme Ambience InfrastructuresBUILDER0',\n",
       "       'Signature AvenuesBUILDER0', 'GK Builders DevelopersBUILDER0',\n",
       "       'Candeur Developers And BuildersBUILDER0',\n",
       "       'BSCPL Infrastructure LtdBUILDER0', 'Merlion BuildersBUILDER0',\n",
       "       'Vajra Builders And DevelopersBUILDER0', 'Riddhi GroupBUILDER0',\n",
       "       'Maram Infra Projects PvtLtdBUILDER0',\n",
       "       'Anuhar Homes Pvt LtdBUILDER0', 'Salarpuria SattvaBUILDER0',\n",
       "       'EIPL GroupBUILDER0', 'Vasavi GroupBUILDER0',\n",
       "       'Mahaveer GroupBUILDER0', 'Sri Aditya SquaresBUILDER0',\n",
       "       'Sumadhura Infracon Pvt LtdBUILDER0', 'Cyber City OrianaBUILDER0',\n",
       "       'Jain ConstructionsBUILDER0', 'M KartheekAGENT0',\n",
       "       'Maaruthi GroupAGENT0', 'sellerVERIFIED OWNER',\n",
       "       'Homes treasvreAGENT4',\n",
       "       'ProptigerCity Expert â\\x80§ AGENT4.81 Rating',\n",
       "       'Ahad Real Estate ConsultantAGENT4.5', 'S K PropertiesAGENT4.5',\n",
       "       'A to Z Real Estate CompanyAGENT0', 'S Square RealityAGENT0',\n",
       "       'sharvari bendarkarOWNER', 'Manish SinghAGENT0',\n",
       "       'Rana SinghAGENT0', 'Aashiyana PropertiesAGENT0',\n",
       "       'ProptigerAGENT0', 'Himanshu RangaAGENT0', 'Space OneAGENT0',\n",
       "       'Joel EnterprisesAGENT0', 'India PropertiesAGENT0',\n",
       "       'Home Land RealtorsAGENT0', 'SHIV SAGAR PROPERTYAGENT0',\n",
       "       'Seeds Realty InvestmentsAGENT0', 'S K PropertyAGENT0',\n",
       "       'Devendra ShettyBUILDER0', 'Shree Siddhivinayak Real EstateAGENT0',\n",
       "       'JP AssociatesAGENT0', 'amitBUILDER0', 'Millennium RealtorsAGENT0',\n",
       "       'MUKESH KUMARAGENT0', 'Aasco RealtyAGENT0', 'Jhp InfraAGENT3.3',\n",
       "       'Prop UrbanAGENT4.5',\n",
       "       'shree rajashree developers pvt ltdBUILDER3.9',\n",
       "       'Chandra BabuAGENT0', 'user5475OWNER', 'nethraOWNER',\n",
       "       'professional property consultantsAGENT0',\n",
       "       \"Kanasu Propertie'sAGENT0\", 'user6465OWNER', 'user7957OWNER',\n",
       "       'SowmyaOWNER', 'ShivaniOWNER', 'amarnathOWNER', 'user9933OWNER',\n",
       "       'user4401OWNER', 'user3979OWNER', 'user0414OWNER', 'adwikaOWNER',\n",
       "       'user9259OWNER', 'user5974OWNER', 'user8140OWNER', 'user5872OWNER',\n",
       "       'user9262OWNER', 'user2372OWNER', 'Anitha KOWNER',\n",
       "       'Lokesh naiduOWNER', 'adwayaOWNER', 'meeraOWNER',\n",
       "       'Yes PropertyAGENT0', 'user0038OWNER', 'Brick TipAGENT0',\n",
       "       'RiteshAGENT0', 'pushpaOWNER', 'NSR VenturesAGENT0',\n",
       "       'PrashantOWNER', 'Epcot Downtown Ventures pvt ltdAGENT0',\n",
       "       'Sri Vyshnavi EnterprisesAGENT0', 'pavanraghBUILDER0',\n",
       "       'kumarBUILDER4.7', 'DELHI INFRATECH LTDAGENT2.9',\n",
       "       'Shourya InfratechAGENT4.7', 'Property GalleryAGENT0',\n",
       "       'India HomesAGENT0', 'B Kumar and BrothersAGENT0',\n",
       "       'CHILLAR HOMESAGENT0', 'Vikas GargAGENT0',\n",
       "       'gorkahpria associatesAGENT0', 'Shajeb QureshiOWNER',\n",
       "       'maryada vermaOWNER', 'sk royAGENT0', 'Vikas solankiOWNER',\n",
       "       'userOWNER', 'Malik Properties BuildersAGENT0', 'user6611OWNER',\n",
       "       'REALTY CENTREAGENT0', 'm vermaOWNER', 'user1771OWNER',\n",
       "       'Bilochan LalOWNER', 'KBROWNER', 'Madhup SharmaOWNER',\n",
       "       'AANVI REAL ESTATEAGENT0', 'Guru Ji AssociatesAGENT0',\n",
       "       'Green Valley BuilderAGENT0', 'CR propertiesAGENT0',\n",
       "       'Pratik LalOWNER', 'user8977OWNER', 'Chauhan PropertiesAGENT0',\n",
       "       'Happy Home Properties and BuildersAGENT0', 'AMIT GAUTAMAGENT0',\n",
       "       'malik katyal associatesAGENT0', 'Sai EstateAGENT0', 'DeepOWNER',\n",
       "       'Growmax Wealth Management ServicesAGENT0',\n",
       "       'Jagdamba AssociatesAGENT0', 'Yogesh SharmaAGENT0',\n",
       "       'Khanna PropertiesBUILDER0', 'Earth Care AssociatesAGENT0',\n",
       "       'Jas buildtech LtdAGENT0', 'Jorawar SinghOWNER',\n",
       "       'Shubh GuptaOWNER', 'Dee Star PropertiesAGENT0',\n",
       "       'Bharathi ConstructionBUILDER0', 'user2619OWNER', 'Nelson POWNER',\n",
       "       'AliOWNER', 'meenatchi realsBUILDER0', 'ALAMELUOWNER',\n",
       "       'user0708OWNER', 'TharunOWNER', 'BaluAGENT0', 'sellerOWNER',\n",
       "       'BabuOWNER', 'user9691OWNER', 'Samsur propertiesAGENT0',\n",
       "       'user0787OWNER', 'krishnaswamyOWNER', 'user6528OWNER',\n",
       "       'PROPLEAFAGENT0', 'KISHORE PROMOTORSBUILDER0',\n",
       "       'MYPROP TELLERAGENT0', 'INSTAPROPAGENT0', 'vetrirealsBUILDER0',\n",
       "       'Franch RealtyAGENT0', 'Chennai propertiesBUILDER0',\n",
       "       'Raj HousingAGENT0', 'VENKATESWARALU KOWNER', 'sundarOWNER',\n",
       "       'VenkatakrishnanAGENT0', 'Elite Estate RajkumarAGENT0',\n",
       "       'jaylakshmiBUILDER0', 'AnbuchezhianAGENT0', 'gopalakrishnaOWNER',\n",
       "       'rajeshOWNER', 'JLLAGENT0', 'sheik mohammedOWNER', 'AmitOWNER',\n",
       "       'KM PROPERTYBUILDER0', 'RajeshOWNER', 'ARB HOMESAGENT0',\n",
       "       'PraveenOWNER', 'JayalakshmiBUILDER0',\n",
       "       'Vishnu Foundation LtdAGENT0', 'user7595OWNER', 'DhamodharanOWNER',\n",
       "       'Swastikk homesAGENT0', 'HarikrishnanOWNER',\n",
       "       'Casagrand SellassureAGENT0', 'SubesinghOWNER', 'GobinathOWNER',\n",
       "       'user2468OWNER', 'user8466OWNER',\n",
       "       'Full Basket property services Pvt ltdAGENT0'], dtype=object)"
      ]
     },
     "execution_count": 14,
     "metadata": {},
     "output_type": "execute_result"
    }
   ],
   "source": [
    "df['BUILDERS'].unique()"
   ]
  },
  {
   "cell_type": "code",
   "execution_count": 15,
   "id": "71336a50",
   "metadata": {},
   "outputs": [],
   "source": [
    "a=[]\n",
    "for i in df['BUILDERS']:\n",
    "    if i.startswith('u'):\n",
    "        a.append(i)"
   ]
  },
  {
   "cell_type": "code",
   "execution_count": 16,
   "id": "019c586e",
   "metadata": {},
   "outputs": [
    {
     "data": {
      "text/plain": [
       "Unnamed: 0             0\n",
       "BUILDERS               0\n",
       "SIZE                   0\n",
       "PROPERTY_TYPE          0\n",
       "PROPERTY_ADDRESS       0\n",
       "CITY                   0\n",
       "AREA                   0\n",
       "RATE_SQFT              0\n",
       "PRICE                  0\n",
       "CONSTRUCTION_STATUS    0\n",
       "LISTED_BY              0\n",
       "dtype: int64"
      ]
     },
     "execution_count": 16,
     "metadata": {},
     "output_type": "execute_result"
    }
   ],
   "source": [
    "df.isna().sum()"
   ]
  },
  {
   "cell_type": "code",
   "execution_count": 17,
   "id": "efd6e457",
   "metadata": {},
   "outputs": [],
   "source": [
    "df['RATE_SQFT']=df['RATE_SQFT'].apply(lambda x:x.replace(',',''))"
   ]
  },
  {
   "cell_type": "code",
   "execution_count": 18,
   "id": "4d01bfb7",
   "metadata": {},
   "outputs": [
    {
     "name": "stdout",
     "output_type": "stream",
     "text": [
      "<class 'pandas.core.frame.DataFrame'>\n",
      "RangeIndex: 1980 entries, 0 to 1979\n",
      "Data columns (total 11 columns):\n",
      " #   Column               Non-Null Count  Dtype \n",
      "---  ------               --------------  ----- \n",
      " 0   Unnamed: 0           1980 non-null   int64 \n",
      " 1   BUILDERS             1980 non-null   object\n",
      " 2   SIZE                 1980 non-null   object\n",
      " 3   PROPERTY_TYPE        1980 non-null   object\n",
      " 4   PROPERTY_ADDRESS     1980 non-null   object\n",
      " 5   CITY                 1980 non-null   object\n",
      " 6   AREA                 1980 non-null   int64 \n",
      " 7   RATE_SQFT            1980 non-null   object\n",
      " 8   PRICE                1980 non-null   object\n",
      " 9   CONSTRUCTION_STATUS  1980 non-null   object\n",
      " 10  LISTED_BY            1980 non-null   object\n",
      "dtypes: int64(2), object(9)\n",
      "memory usage: 170.3+ KB\n"
     ]
    }
   ],
   "source": [
    "df.info()"
   ]
  },
  {
   "cell_type": "code",
   "execution_count": 19,
   "id": "253eb88d",
   "metadata": {},
   "outputs": [],
   "source": [
    "df2 = df[~df['BUILDERS'].str.contains('OWNER')]\n",
    "df2.reset_index(drop=True, inplace=True)"
   ]
  },
  {
   "cell_type": "code",
   "execution_count": 20,
   "id": "e300ea7a",
   "metadata": {},
   "outputs": [
    {
     "data": {
      "text/plain": [
       "array(['Ashoka Builders India Private LimitedBUILDER0',\n",
       "       'Sunyuga Infra Pvt LtdBUILDER0',\n",
       "       'Raghuram Pradeep Constructions India LLPBUILDER0',\n",
       "       'Kalyan Infra ProjectsBUILDER0', 'Risinia BuildersBUILDER0',\n",
       "       'MKT Praneeth HomesBUILDER0', 'APR GroupBUILDER0',\n",
       "       'Praneeth GroupBUILDER0', 'GHR InfraBUILDER0',\n",
       "       'Greenmark DevelopersBUILDER0', 'Hallmark BuildersBUILDER0',\n",
       "       'Aavasa ConstructionsBUILDER0',\n",
       "       'Theme Ambience InfrastructuresBUILDER0',\n",
       "       'Signature AvenuesBUILDER0', 'GK Builders DevelopersBUILDER0',\n",
       "       'Candeur Developers And BuildersBUILDER0',\n",
       "       'BSCPL Infrastructure LtdBUILDER0', 'Merlion BuildersBUILDER0',\n",
       "       'Vajra Builders And DevelopersBUILDER0', 'Riddhi GroupBUILDER0',\n",
       "       'Maram Infra Projects PvtLtdBUILDER0',\n",
       "       'Anuhar Homes Pvt LtdBUILDER0', 'Salarpuria SattvaBUILDER0',\n",
       "       'EIPL GroupBUILDER0', 'Vasavi GroupBUILDER0',\n",
       "       'Mahaveer GroupBUILDER0', 'Sri Aditya SquaresBUILDER0',\n",
       "       'Sumadhura Infracon Pvt LtdBUILDER0', 'Cyber City OrianaBUILDER0',\n",
       "       'Jain ConstructionsBUILDER0', 'M KartheekAGENT0',\n",
       "       'Maaruthi GroupAGENT0', 'Homes treasvreAGENT4',\n",
       "       'ProptigerCity Expert â\\x80§ AGENT4.81 Rating',\n",
       "       'Ahad Real Estate ConsultantAGENT4.5', 'S K PropertiesAGENT4.5',\n",
       "       'A to Z Real Estate CompanyAGENT0', 'S Square RealityAGENT0',\n",
       "       'Manish SinghAGENT0', 'Rana SinghAGENT0',\n",
       "       'Aashiyana PropertiesAGENT0', 'ProptigerAGENT0',\n",
       "       'Himanshu RangaAGENT0', 'Space OneAGENT0',\n",
       "       'Joel EnterprisesAGENT0', 'India PropertiesAGENT0',\n",
       "       'Home Land RealtorsAGENT0', 'SHIV SAGAR PROPERTYAGENT0',\n",
       "       'Seeds Realty InvestmentsAGENT0', 'S K PropertyAGENT0',\n",
       "       'Devendra ShettyBUILDER0', 'Shree Siddhivinayak Real EstateAGENT0',\n",
       "       'JP AssociatesAGENT0', 'amitBUILDER0', 'Millennium RealtorsAGENT0',\n",
       "       'MUKESH KUMARAGENT0', 'Aasco RealtyAGENT0', 'Jhp InfraAGENT3.3',\n",
       "       'Prop UrbanAGENT4.5',\n",
       "       'shree rajashree developers pvt ltdBUILDER3.9',\n",
       "       'Chandra BabuAGENT0', 'professional property consultantsAGENT0',\n",
       "       \"Kanasu Propertie'sAGENT0\", 'Yes PropertyAGENT0',\n",
       "       'Brick TipAGENT0', 'RiteshAGENT0', 'NSR VenturesAGENT0',\n",
       "       'Epcot Downtown Ventures pvt ltdAGENT0',\n",
       "       'Sri Vyshnavi EnterprisesAGENT0', 'pavanraghBUILDER0',\n",
       "       'kumarBUILDER4.7', 'DELHI INFRATECH LTDAGENT2.9',\n",
       "       'Shourya InfratechAGENT4.7', 'Property GalleryAGENT0',\n",
       "       'India HomesAGENT0', 'B Kumar and BrothersAGENT0',\n",
       "       'CHILLAR HOMESAGENT0', 'Vikas GargAGENT0',\n",
       "       'gorkahpria associatesAGENT0', 'sk royAGENT0',\n",
       "       'Malik Properties BuildersAGENT0', 'REALTY CENTREAGENT0',\n",
       "       'AANVI REAL ESTATEAGENT0', 'Guru Ji AssociatesAGENT0',\n",
       "       'Green Valley BuilderAGENT0', 'CR propertiesAGENT0',\n",
       "       'Chauhan PropertiesAGENT0',\n",
       "       'Happy Home Properties and BuildersAGENT0', 'AMIT GAUTAMAGENT0',\n",
       "       'malik katyal associatesAGENT0', 'Sai EstateAGENT0',\n",
       "       'Growmax Wealth Management ServicesAGENT0',\n",
       "       'Jagdamba AssociatesAGENT0', 'Yogesh SharmaAGENT0',\n",
       "       'Khanna PropertiesBUILDER0', 'Earth Care AssociatesAGENT0',\n",
       "       'Jas buildtech LtdAGENT0', 'Dee Star PropertiesAGENT0',\n",
       "       'Bharathi ConstructionBUILDER0', 'meenatchi realsBUILDER0',\n",
       "       'BaluAGENT0', 'Samsur propertiesAGENT0', 'PROPLEAFAGENT0',\n",
       "       'KISHORE PROMOTORSBUILDER0', 'MYPROP TELLERAGENT0',\n",
       "       'INSTAPROPAGENT0', 'vetrirealsBUILDER0', 'Franch RealtyAGENT0',\n",
       "       'Chennai propertiesBUILDER0', 'Raj HousingAGENT0',\n",
       "       'VenkatakrishnanAGENT0', 'Elite Estate RajkumarAGENT0',\n",
       "       'jaylakshmiBUILDER0', 'AnbuchezhianAGENT0', 'JLLAGENT0',\n",
       "       'KM PROPERTYBUILDER0', 'ARB HOMESAGENT0', 'JayalakshmiBUILDER0',\n",
       "       'Vishnu Foundation LtdAGENT0', 'Swastikk homesAGENT0',\n",
       "       'Casagrand SellassureAGENT0',\n",
       "       'Full Basket property services Pvt ltdAGENT0'], dtype=object)"
      ]
     },
     "execution_count": 20,
     "metadata": {},
     "output_type": "execute_result"
    }
   ],
   "source": [
    "df2['BUILDERS'].unique()"
   ]
  },
  {
   "cell_type": "code",
   "execution_count": 21,
   "id": "ff4af40c",
   "metadata": {},
   "outputs": [
    {
     "data": {
      "text/plain": [
       "BUILDERS\n",
       "ProptigerCity Expert â§ AGENT4.81 Rating    534\n",
       "B Kumar and BrothersAGENT0                   291\n",
       "ProptigerAGENT0                              267\n",
       "Hallmark BuildersBUILDER0                     49\n",
       "Salarpuria SattvaBUILDER0                     37\n",
       "                                            ... \n",
       "sk royAGENT0                                   1\n",
       "AANVI REAL ESTATEAGENT0                        1\n",
       "Green Valley BuilderAGENT0                     1\n",
       "S K PropertyAGENT0                             1\n",
       "pavanraghBUILDER0                              1\n",
       "Name: count, Length: 122, dtype: int64"
      ]
     },
     "execution_count": 21,
     "metadata": {},
     "output_type": "execute_result"
    }
   ],
   "source": [
    "df2['BUILDERS'].value_counts()"
   ]
  },
  {
   "cell_type": "code",
   "execution_count": 22,
   "id": "a0f3569e",
   "metadata": {},
   "outputs": [
    {
     "name": "stdout",
     "output_type": "stream",
     "text": [
      "<class 'pandas.core.frame.DataFrame'>\n",
      "RangeIndex: 1787 entries, 0 to 1786\n",
      "Data columns (total 11 columns):\n",
      " #   Column               Non-Null Count  Dtype \n",
      "---  ------               --------------  ----- \n",
      " 0   Unnamed: 0           1787 non-null   int64 \n",
      " 1   BUILDERS             1787 non-null   object\n",
      " 2   SIZE                 1787 non-null   object\n",
      " 3   PROPERTY_TYPE        1787 non-null   object\n",
      " 4   PROPERTY_ADDRESS     1787 non-null   object\n",
      " 5   CITY                 1787 non-null   object\n",
      " 6   AREA                 1787 non-null   int64 \n",
      " 7   RATE_SQFT            1787 non-null   object\n",
      " 8   PRICE                1787 non-null   object\n",
      " 9   CONSTRUCTION_STATUS  1787 non-null   object\n",
      " 10  LISTED_BY            1787 non-null   object\n",
      "dtypes: int64(2), object(9)\n",
      "memory usage: 153.7+ KB\n"
     ]
    }
   ],
   "source": [
    "df2.info()"
   ]
  },
  {
   "cell_type": "code",
   "execution_count": 23,
   "id": "b336edbc",
   "metadata": {},
   "outputs": [
    {
     "data": {
      "text/plain": [
       "array(['Apartment', 'Villa', 'Independent', 'ApartmentPragathi',\n",
       "       'ApartmentMount', 'Apartmentkasaradavali', 'Studio',\n",
       "       'ApartmentGreater', 'ApartmentKharghar', 'ApartmentKalyan',\n",
       "       'ApartmentUlwe', 'ApartmentThane', 'ApartmentUttam',\n",
       "       'ApartmentBurari', 'Penthouse', 'ApartmentSector',\n",
       "       'ApartmentValasaravakkam', 'ApartmentMogappair',\n",
       "       'VillaVengambakkam', 'VillaKandigai', 'ApartmentPorur',\n",
       "       'VillaSembakkam', 'ApartmentSelaiyur', 'ApartmentKotivakkam',\n",
       "       'VillaSelaiyur', 'ApartmentMadambakkam'], dtype=object)"
      ]
     },
     "execution_count": 23,
     "metadata": {},
     "output_type": "execute_result"
    }
   ],
   "source": [
    "df2['PROPERTY_TYPE'].unique()"
   ]
  },
  {
   "cell_type": "code",
   "execution_count": 24,
   "id": "49947a9c",
   "metadata": {},
   "outputs": [
    {
     "data": {
      "text/plain": [
       "0       Apartment\n",
       "1           Villa\n",
       "2       Apartment\n",
       "3       Apartment\n",
       "4       Apartment\n",
       "          ...    \n",
       "1782    Apartment\n",
       "1783    Apartment\n",
       "1784    Apartment\n",
       "1785    Apartment\n",
       "1786    Apartment\n",
       "Name: PROPERTY_TYPE, Length: 1787, dtype: object"
      ]
     },
     "execution_count": 24,
     "metadata": {},
     "output_type": "execute_result"
    }
   ],
   "source": [
    "df2['PROPERTY_TYPE']"
   ]
  },
  {
   "cell_type": "code",
   "execution_count": 25,
   "id": "9cbfe903",
   "metadata": {},
   "outputs": [
    {
     "data": {
      "text/html": [
       "<div>\n",
       "<style scoped>\n",
       "    .dataframe tbody tr th:only-of-type {\n",
       "        vertical-align: middle;\n",
       "    }\n",
       "\n",
       "    .dataframe tbody tr th {\n",
       "        vertical-align: top;\n",
       "    }\n",
       "\n",
       "    .dataframe thead th {\n",
       "        text-align: right;\n",
       "    }\n",
       "</style>\n",
       "<table border=\"1\" class=\"dataframe\">\n",
       "  <thead>\n",
       "    <tr style=\"text-align: right;\">\n",
       "      <th></th>\n",
       "      <th>Unnamed: 0</th>\n",
       "      <th>BUILDERS</th>\n",
       "      <th>SIZE</th>\n",
       "      <th>PROPERTY_TYPE</th>\n",
       "      <th>PROPERTY_ADDRESS</th>\n",
       "      <th>CITY</th>\n",
       "      <th>AREA</th>\n",
       "      <th>RATE_SQFT</th>\n",
       "      <th>PRICE</th>\n",
       "      <th>CONSTRUCTION_STATUS</th>\n",
       "      <th>LISTED_BY</th>\n",
       "    </tr>\n",
       "  </thead>\n",
       "  <tbody>\n",
       "    <tr>\n",
       "      <th>0</th>\n",
       "      <td>0</td>\n",
       "      <td>Ashoka Builders India Private LimitedBUILDER0</td>\n",
       "      <td>3 BHK</td>\n",
       "      <td>Apartment</td>\n",
       "      <td>Nanakramguda</td>\n",
       "      <td>Hyderabad</td>\n",
       "      <td>1870</td>\n",
       "      <td>9499</td>\n",
       "      <td>1.77 Cr</td>\n",
       "      <td>Under Construction</td>\n",
       "      <td>BUILDER</td>\n",
       "    </tr>\n",
       "    <tr>\n",
       "      <th>1</th>\n",
       "      <td>1</td>\n",
       "      <td>Sunyuga Infra Pvt LtdBUILDER0</td>\n",
       "      <td>4 BHK</td>\n",
       "      <td>Villa</td>\n",
       "      <td>Gundlapochampally</td>\n",
       "      <td>Hyderabad</td>\n",
       "      <td>3587</td>\n",
       "      <td>8300</td>\n",
       "      <td>2.97 Cr</td>\n",
       "      <td>Under Construction</td>\n",
       "      <td>BUILDER</td>\n",
       "    </tr>\n",
       "    <tr>\n",
       "      <th>2</th>\n",
       "      <td>2</td>\n",
       "      <td>Raghuram Pradeep Constructions India LLPBUILDER0</td>\n",
       "      <td>4 BHK</td>\n",
       "      <td>Apartment</td>\n",
       "      <td>Puppalaguda</td>\n",
       "      <td>Hyderabad</td>\n",
       "      <td>3715</td>\n",
       "      <td>10891</td>\n",
       "      <td>4.04 Cr</td>\n",
       "      <td>Under Construction</td>\n",
       "      <td>BUILDER</td>\n",
       "    </tr>\n",
       "    <tr>\n",
       "      <th>3</th>\n",
       "      <td>3</td>\n",
       "      <td>Kalyan Infra ProjectsBUILDER0</td>\n",
       "      <td>3 BHK</td>\n",
       "      <td>Apartment</td>\n",
       "      <td>Manchirevula</td>\n",
       "      <td>Hyderabad</td>\n",
       "      <td>2150</td>\n",
       "      <td>6800</td>\n",
       "      <td>1.46 Cr</td>\n",
       "      <td>Ready to move</td>\n",
       "      <td>BUILDER</td>\n",
       "    </tr>\n",
       "    <tr>\n",
       "      <th>4</th>\n",
       "      <td>4</td>\n",
       "      <td>Risinia BuildersBUILDER0</td>\n",
       "      <td>2 BHK</td>\n",
       "      <td>Apartment</td>\n",
       "      <td>Pragathi</td>\n",
       "      <td>Hyderabad</td>\n",
       "      <td>1312</td>\n",
       "      <td>5599</td>\n",
       "      <td>73.45 L</td>\n",
       "      <td>Under Construction</td>\n",
       "      <td>BUILDER</td>\n",
       "    </tr>\n",
       "    <tr>\n",
       "      <th>...</th>\n",
       "      <td>...</td>\n",
       "      <td>...</td>\n",
       "      <td>...</td>\n",
       "      <td>...</td>\n",
       "      <td>...</td>\n",
       "      <td>...</td>\n",
       "      <td>...</td>\n",
       "      <td>...</td>\n",
       "      <td>...</td>\n",
       "      <td>...</td>\n",
       "      <td>...</td>\n",
       "    </tr>\n",
       "    <tr>\n",
       "      <th>1782</th>\n",
       "      <td>1975</td>\n",
       "      <td>Full Basket property services Pvt ltdAGENT0</td>\n",
       "      <td>2 BHK</td>\n",
       "      <td>Apartment</td>\n",
       "      <td>Sholinganallur</td>\n",
       "      <td>Chennai</td>\n",
       "      <td>976</td>\n",
       "      <td>11142</td>\n",
       "      <td>1.08 Cr</td>\n",
       "      <td>Ready to move</td>\n",
       "      <td>AGENT</td>\n",
       "    </tr>\n",
       "    <tr>\n",
       "      <th>1783</th>\n",
       "      <td>1976</td>\n",
       "      <td>Full Basket property services Pvt ltdAGENT0</td>\n",
       "      <td>2 BHK</td>\n",
       "      <td>Apartment</td>\n",
       "      <td>Sholinganallur</td>\n",
       "      <td>Chennai</td>\n",
       "      <td>923</td>\n",
       "      <td>11050</td>\n",
       "      <td>1.02 Cr</td>\n",
       "      <td>Ready to move</td>\n",
       "      <td>AGENT</td>\n",
       "    </tr>\n",
       "    <tr>\n",
       "      <th>1784</th>\n",
       "      <td>1977</td>\n",
       "      <td>Full Basket property services Pvt ltdAGENT0</td>\n",
       "      <td>2 BHK</td>\n",
       "      <td>Apartment</td>\n",
       "      <td>Sholinganallur</td>\n",
       "      <td>Chennai</td>\n",
       "      <td>923</td>\n",
       "      <td>11050</td>\n",
       "      <td>1.02 Cr</td>\n",
       "      <td>Ready to move</td>\n",
       "      <td>AGENT</td>\n",
       "    </tr>\n",
       "    <tr>\n",
       "      <th>1785</th>\n",
       "      <td>1978</td>\n",
       "      <td>Full Basket property services Pvt ltdAGENT0</td>\n",
       "      <td>2 BHK</td>\n",
       "      <td>Apartment</td>\n",
       "      <td>Sholinganallur</td>\n",
       "      <td>Chennai</td>\n",
       "      <td>843</td>\n",
       "      <td>10156</td>\n",
       "      <td>85.61 L</td>\n",
       "      <td>Ready to move</td>\n",
       "      <td>AGENT</td>\n",
       "    </tr>\n",
       "    <tr>\n",
       "      <th>1786</th>\n",
       "      <td>1979</td>\n",
       "      <td>Full Basket property services Pvt ltdAGENT0</td>\n",
       "      <td>2 BHK</td>\n",
       "      <td>Apartment</td>\n",
       "      <td>Sholinganallur</td>\n",
       "      <td>Chennai</td>\n",
       "      <td>843</td>\n",
       "      <td>10156</td>\n",
       "      <td>85.61 L</td>\n",
       "      <td>Ready to move</td>\n",
       "      <td>AGENT</td>\n",
       "    </tr>\n",
       "  </tbody>\n",
       "</table>\n",
       "<p>1787 rows × 11 columns</p>\n",
       "</div>"
      ],
      "text/plain": [
       "      Unnamed: 0                                          BUILDERS   SIZE  \\\n",
       "0              0     Ashoka Builders India Private LimitedBUILDER0  3 BHK   \n",
       "1              1                     Sunyuga Infra Pvt LtdBUILDER0  4 BHK   \n",
       "2              2  Raghuram Pradeep Constructions India LLPBUILDER0  4 BHK   \n",
       "3              3                     Kalyan Infra ProjectsBUILDER0  3 BHK   \n",
       "4              4                          Risinia BuildersBUILDER0  2 BHK   \n",
       "...          ...                                               ...    ...   \n",
       "1782        1975       Full Basket property services Pvt ltdAGENT0  2 BHK   \n",
       "1783        1976       Full Basket property services Pvt ltdAGENT0  2 BHK   \n",
       "1784        1977       Full Basket property services Pvt ltdAGENT0  2 BHK   \n",
       "1785        1978       Full Basket property services Pvt ltdAGENT0  2 BHK   \n",
       "1786        1979       Full Basket property services Pvt ltdAGENT0  2 BHK   \n",
       "\n",
       "     PROPERTY_TYPE   PROPERTY_ADDRESS       CITY  AREA RATE_SQFT     PRICE  \\\n",
       "0        Apartment       Nanakramguda  Hyderabad  1870      9499   1.77 Cr   \n",
       "1            Villa  Gundlapochampally  Hyderabad  3587      8300   2.97 Cr   \n",
       "2        Apartment        Puppalaguda  Hyderabad  3715     10891   4.04 Cr   \n",
       "3        Apartment       Manchirevula  Hyderabad  2150      6800   1.46 Cr   \n",
       "4        Apartment           Pragathi  Hyderabad  1312      5599   73.45 L   \n",
       "...            ...                ...        ...   ...       ...       ...   \n",
       "1782     Apartment     Sholinganallur    Chennai   976     11142   1.08 Cr   \n",
       "1783     Apartment     Sholinganallur    Chennai   923     11050   1.02 Cr   \n",
       "1784     Apartment     Sholinganallur    Chennai   923     11050   1.02 Cr   \n",
       "1785     Apartment     Sholinganallur    Chennai   843     10156   85.61 L   \n",
       "1786     Apartment     Sholinganallur    Chennai   843     10156   85.61 L   \n",
       "\n",
       "     CONSTRUCTION_STATUS LISTED_BY  \n",
       "0     Under Construction   BUILDER  \n",
       "1     Under Construction   BUILDER  \n",
       "2     Under Construction   BUILDER  \n",
       "3          Ready to move   BUILDER  \n",
       "4     Under Construction   BUILDER  \n",
       "...                  ...       ...  \n",
       "1782       Ready to move     AGENT  \n",
       "1783       Ready to move     AGENT  \n",
       "1784       Ready to move     AGENT  \n",
       "1785       Ready to move     AGENT  \n",
       "1786       Ready to move     AGENT  \n",
       "\n",
       "[1787 rows x 11 columns]"
      ]
     },
     "execution_count": 25,
     "metadata": {},
     "output_type": "execute_result"
    }
   ],
   "source": [
    "df2.loc[df2['PROPERTY_TYPE'].str.startswith('Apartment'), 'PROPERTY_TYPE'] = 'Apartment'\n",
    "df2.loc[df2['PROPERTY_TYPE'].str.startswith('Villa'), 'PROPERTY_TYPE'] = 'Villa'\n",
    "\n",
    "df2\n"
   ]
  },
  {
   "cell_type": "code",
   "execution_count": 26,
   "id": "e53d709b",
   "metadata": {},
   "outputs": [
    {
     "data": {
      "text/plain": [
       "array(['Apartment', 'Villa', 'Independent', 'Studio', 'Penthouse'],\n",
       "      dtype=object)"
      ]
     },
     "execution_count": 26,
     "metadata": {},
     "output_type": "execute_result"
    }
   ],
   "source": [
    "df2['PROPERTY_TYPE'].unique()"
   ]
  },
  {
   "cell_type": "code",
   "execution_count": 27,
   "id": "6299d918",
   "metadata": {},
   "outputs": [
    {
     "data": {
      "text/plain": [
       "0     1.77 Cr\n",
       "1     2.97 Cr\n",
       "2     4.04 Cr\n",
       "3     1.46 Cr\n",
       "4     73.45 L\n",
       "5     48.04 L\n",
       "6     3.86 Cr\n",
       "7     1.71 Cr\n",
       "8     1.06 Cr\n",
       "9     7.41 Cr\n",
       "Name: PRICE, dtype: object"
      ]
     },
     "execution_count": 27,
     "metadata": {},
     "output_type": "execute_result"
    }
   ],
   "source": [
    "df2['PRICE'].head(10)"
   ]
  },
  {
   "cell_type": "code",
   "execution_count": 28,
   "id": "c8cd9ea1",
   "metadata": {},
   "outputs": [
    {
     "name": "stderr",
     "output_type": "stream",
     "text": [
      "C:\\Users\\HP\\AppData\\Local\\Temp\\ipykernel_19176\\2742092100.py:1: SettingWithCopyWarning: \n",
      "A value is trying to be set on a copy of a slice from a DataFrame\n",
      "\n",
      "See the caveats in the documentation: https://pandas.pydata.org/pandas-docs/stable/user_guide/indexing.html#returning-a-view-versus-a-copy\n",
      "  df2['PRICE'].loc[df2['PRICE'].str.contains('L')] = df2['PRICE'][df2['PRICE'].str.contains('L')].str.replace(' L', '').astype(float) / 100\n"
     ]
    },
    {
     "data": {
      "text/plain": [
       "0        1.77 Cr\n",
       "1        2.97 Cr\n",
       "2        4.04 Cr\n",
       "3        1.46 Cr\n",
       "4         0.7345\n",
       "          ...   \n",
       "1782     1.08 Cr\n",
       "1783     1.02 Cr\n",
       "1784     1.02 Cr\n",
       "1785      0.8561\n",
       "1786      0.8561\n",
       "Name: PRICE, Length: 1787, dtype: object"
      ]
     },
     "execution_count": 28,
     "metadata": {},
     "output_type": "execute_result"
    }
   ],
   "source": [
    "df2['PRICE'].loc[df2['PRICE'].str.contains('L')] = df2['PRICE'][df2['PRICE'].str.contains('L')].str.replace(' L', '').astype(float) / 100\n",
    "df2['PRICE']"
   ]
  },
  {
   "cell_type": "code",
   "execution_count": 29,
   "id": "9690287e",
   "metadata": {},
   "outputs": [
    {
     "name": "stderr",
     "output_type": "stream",
     "text": [
      "C:\\Users\\HP\\AppData\\Local\\Temp\\ipykernel_19176\\1513608273.py:1: SettingWithCopyWarning: \n",
      "A value is trying to be set on a copy of a slice from a DataFrame.\n",
      "Try using .loc[row_indexer,col_indexer] = value instead\n",
      "\n",
      "See the caveats in the documentation: https://pandas.pydata.org/pandas-docs/stable/user_guide/indexing.html#returning-a-view-versus-a-copy\n",
      "  df2['PRICE'] = df2['PRICE'].apply(lambda x: x.replace(' Cr', '') if isinstance(x, str) and 'Cr' in x else x)\n"
     ]
    }
   ],
   "source": [
    "df2['PRICE'] = df2['PRICE'].apply(lambda x: x.replace(' Cr', '') if isinstance(x, str) and 'Cr' in x else x)\n"
   ]
  },
  {
   "cell_type": "code",
   "execution_count": 30,
   "id": "900532ca",
   "metadata": {},
   "outputs": [
    {
     "data": {
      "text/plain": [
       "0         1.77\n",
       "1         2.97\n",
       "2         4.04\n",
       "3         1.46\n",
       "4       0.7345\n",
       "         ...  \n",
       "1782      1.08\n",
       "1783      1.02\n",
       "1784      1.02\n",
       "1785    0.8561\n",
       "1786    0.8561\n",
       "Name: PRICE, Length: 1787, dtype: object"
      ]
     },
     "execution_count": 30,
     "metadata": {},
     "output_type": "execute_result"
    }
   ],
   "source": [
    "df2['PRICE']"
   ]
  },
  {
   "cell_type": "code",
   "execution_count": 31,
   "id": "c15aacb9",
   "metadata": {},
   "outputs": [
    {
     "name": "stderr",
     "output_type": "stream",
     "text": [
      "C:\\Users\\HP\\AppData\\Local\\Temp\\ipykernel_19176\\1494077996.py:1: SettingWithCopyWarning: \n",
      "A value is trying to be set on a copy of a slice from a DataFrame.\n",
      "Try using .loc[row_indexer,col_indexer] = value instead\n",
      "\n",
      "See the caveats in the documentation: https://pandas.pydata.org/pandas-docs/stable/user_guide/indexing.html#returning-a-view-versus-a-copy\n",
      "  df2['PRICE']=df2['PRICE'].astype(float)\n"
     ]
    }
   ],
   "source": [
    "df2['PRICE']=df2['PRICE'].astype(float)"
   ]
  },
  {
   "cell_type": "code",
   "execution_count": 32,
   "id": "d6347fcd",
   "metadata": {},
   "outputs": [
    {
     "data": {
      "text/plain": [
       "array(['9499', '8300', '10891', '6800', '5599', '4200', '10000', '7599',\n",
       "       '5999', '12142', '8299', '7000', '7499', '5400', '7600', '13587',\n",
       "       '6002', '6500', '5950', '5055', '10540', '7800', '7400', '8500',\n",
       "       '7999', '13592', '8399', '6754', '9901', '9000', '9920', '4202',\n",
       "       '10895', '6000', '9640', '6751', '7299', '4800', '9799', '9803',\n",
       "       '11016', '9982', '10887', '12150', '9904', '9900', '9905', '9907',\n",
       "       '9903', '5407', '6001', '12500', '8002', '8003', '8005', '8004',\n",
       "       '5803', '5800', '4999', '12250', '12333', '13745', '12353',\n",
       "       '13757', '12841', '9600', '5555', '8400', '14615', '14316',\n",
       "       '12656', '14072', '14413', '14409', '14307', '14525', '14587',\n",
       "       '14495', '16147', '10085', '9444', '9350', '9666', '13481',\n",
       "       '13457', '13593', '15094', '9275', '9257', '9287', '25748',\n",
       "       '23922', '21775', '11900', '25000', '20965', '8826', '10066',\n",
       "       '9717', '10186', '10263', '13723', '6715', '6810', '10030', '9912',\n",
       "       '9604', '15629', '14655', '17055', '13688', '14955', '9990',\n",
       "       '10500', '15989', '15768', '15734', '15536', '18697', '18192',\n",
       "       '13496', '14436', '14930', '14200', '22005', '22613', '33036',\n",
       "       '36061', '22883', '38033', '35092', '31000', '49000', '48200',\n",
       "       '56910', '14500', '27108', '9230', 'Price', '8545', '8857', '9500',\n",
       "       '27870', '27754', '27871', '21500', '11000', '11261', '11241',\n",
       "       '11289', '11356', '11225', '31307', '28078', '19149', '8648',\n",
       "       '10952', '7589', '10431', '3636', '13142', '12898', '7619',\n",
       "       '15895', '15659', '16389', '11469', '10356', '8802', '10571',\n",
       "       '17462', '11818', '6829', '6749', '23070', '13500', '18906',\n",
       "       '18627', '19935', '20569', '5904', '24183', '5434', '5495', '5518',\n",
       "       '5450', '5535', '5497', '5498', '5543', '5560', '5432', '6114',\n",
       "       '5709', '425', '5150', '4199', '4899', '5068', '4942', '8051',\n",
       "       '8304', '9145', '6150', '4940', '5090', '5040', '7350', '5929',\n",
       "       '4750', '5225', '2927', '2875', '5390', '5200', '5454', '16964',\n",
       "       '21000', '21232', '9247', '8602', '6833', '6200', '5900', '22916',\n",
       "       '5500', '5100', '4949', '4318', '8603', '5770', '6140', '9590',\n",
       "       '9715', '10449', '6331', '4500', '6196', '6227', '6104', '6358',\n",
       "       '6609', '15000', '6337', '4040', '3441', '3400', '3422', '3478',\n",
       "       '3749', '3748', '4090', '42857', '43902', '45000', '30000',\n",
       "       '24074', '43750', '135877', '151710', '65909', '51062', '24734',\n",
       "       '18605', '12698', '118445', '54428', '40000', '12711', '19545',\n",
       "       '11494', '11458', '9166', '13756', '8333', '11111', '10555',\n",
       "       '5111', '20833', '5456', '5727', '5722', '5972', '16000', '4861',\n",
       "       '7500', '20399', '20396', '17383', '19925', '20018', '88395',\n",
       "       '4888', '25284', '12026', '17160', '28927', '17544', '18614',\n",
       "       '20036', '21080', '21606', '18826', '63816', '62461', '68064',\n",
       "       '63815', '16159', '16648', '23434', '67969', '73334', '122194',\n",
       "       '43298', '45746', '20203', '17698', '29189', '22504', '23914',\n",
       "       '17542', '18621', '19343', '32156', '23423', '16986', '17624',\n",
       "       '21399', '29587', '24781', '18733', '18664', '19720', '19443',\n",
       "       '26994', '21611', '35408', '23903', '19750', '23460', '20386',\n",
       "       '17798', '20665', '17742', '17492', '19896', '134752', '37749',\n",
       "       '21018', '17538', '19926', '19124', '21047', '20749', '46064',\n",
       "       '40196', '44711', '23891', '21610', '17562', '17399', '39379',\n",
       "       '17068', '15273', '24134', '39427', '37141', '30655', '44704',\n",
       "       '49608', '30067', '20530', '21767', '17580', '24702', '39912',\n",
       "       '131049', '158125', '14324', '16666', '22401', '28683', '18421',\n",
       "       '20689', '26223', '18803', '19538', '19453', '23334', '20964',\n",
       "       '21213', '20218', '19518', '23710', '17613', '20447', '21508',\n",
       "       '21327', '21441', '38053', '17420', '107621', '17616', '92723',\n",
       "       '79058', '23386', '17517', '20831', '22785', '23537', '22036',\n",
       "       '21926', '19897', '24243', '24376', '17855', '94834', '27035',\n",
       "       '16650', '49933', '41813', '74667', '19371', '122193', '22687',\n",
       "       '20006', '21280', '100922', '65982', '41993', '59613', '35877',\n",
       "       '21209', '18810', '47357', '62596', '93260', '78928', '18620',\n",
       "       '43928', '67638', '33252', '18774', '74650', '21277', '67376',\n",
       "       '16985', '17578', '55848', '42849', '18585', '21346', '21672',\n",
       "       '55537', '23167', '23374', '18592', '19442', '44261', '150206',\n",
       "       '150245', '46616', '68523', '37689', '47244', '137701', '169433',\n",
       "       '130270', '68029', '72101', '51687', '48155', '42360', '157925',\n",
       "       '152346', '46519', '39953', '43968', '44787', '152539', '151197',\n",
       "       '26146', '27987', '144078', '156694', '177670', '68538', '51054',\n",
       "       '51239', '66001', '54025', '151960', '103122', '39096', '51053',\n",
       "       '41794', '54135', '157738', '16358', '22632', '20236', '21279',\n",
       "       '21557', '16849', '77294', '64763', '68013', '67064', '19079',\n",
       "       '33210', '23715', '19138', '20570', '22004', '18362', '20365',\n",
       "       '20193', '23518', '24739', '17629', '16704', '17632', '7819',\n",
       "       '8247', '23756', '16349', '26813', '5000', '12173', '13888',\n",
       "       '16842', '9428', '13217', '4000', '13121', '3928', '2692', '22626',\n",
       "       '19024', '8823', '12592', '15750', '9062', '24783', '9800', '9700',\n",
       "       '3800', '7200', '4850', '4749', '4299', '6647', '3916', '5569',\n",
       "       '6950', '4629', '17611', '4275', '4212', '6424', '6350', '3199',\n",
       "       '5099', '7210', '4950', '6970', '4995', '3548', '7076', '4571',\n",
       "       '2934', '12903', '4426', '3518', '4527', '6381', '7157', '5748',\n",
       "       '5838', '7087', '7061', '4557', '2500', '2700', '3876', '4241',\n",
       "       '8171', '8170', '7877', '4399', '3988', '6315', '3950', '7069',\n",
       "       '2000', '7685', '8191', '5250', '4400', '3943', '7246', '11253',\n",
       "       '12796', '12906', '10012', '11372', '12917', '12552', '11277',\n",
       "       '11328', '10501', '11732', '9970', '11142', '11050', '10156'],\n",
       "      dtype=object)"
      ]
     },
     "execution_count": 32,
     "metadata": {},
     "output_type": "execute_result"
    }
   ],
   "source": [
    "df2[\"RATE_SQFT\"].unique()"
   ]
  },
  {
   "cell_type": "markdown",
   "id": "213ddb77",
   "metadata": {},
   "source": [
    "# Convert all non-string values to string\n",
    "df2[\"RATE_SQFT\"] = df2[\"RATE_SQFT\"].astype(str)\n",
    "\n"
   ]
  },
  {
   "cell_type": "code",
   "execution_count": 33,
   "id": "51839f4f",
   "metadata": {},
   "outputs": [
    {
     "name": "stderr",
     "output_type": "stream",
     "text": [
      "C:\\Users\\HP\\AppData\\Local\\Temp\\ipykernel_19176\\3040961679.py:2: SettingWithCopyWarning: \n",
      "A value is trying to be set on a copy of a slice from a DataFrame.\n",
      "Try using .loc[row_indexer,col_indexer] = value instead\n",
      "\n",
      "See the caveats in the documentation: https://pandas.pydata.org/pandas-docs/stable/user_guide/indexing.html#returning-a-view-versus-a-copy\n",
      "  df2[\"RATE_SQFT\"] = df2[\"RATE_SQFT\"].astype(str)\n"
     ]
    }
   ],
   "source": [
    "# Convert all non-string values to string\n",
    "df2[\"RATE_SQFT\"] = df2[\"RATE_SQFT\"].astype(str)"
   ]
  },
  {
   "cell_type": "code",
   "execution_count": 34,
   "id": "5e7c2d26",
   "metadata": {},
   "outputs": [
    {
     "name": "stdout",
     "output_type": "stream",
     "text": [
      "<class 'pandas.core.series.Series'>\n",
      "RangeIndex: 1787 entries, 0 to 1786\n",
      "Series name: RATE_SQFT\n",
      "Non-Null Count  Dtype \n",
      "--------------  ----- \n",
      "1787 non-null   object\n",
      "dtypes: object(1)\n",
      "memory usage: 14.1+ KB\n"
     ]
    }
   ],
   "source": [
    "df2[\"RATE_SQFT\"].info()"
   ]
  },
  {
   "cell_type": "code",
   "execution_count": 35,
   "id": "9e044529",
   "metadata": {},
   "outputs": [
    {
     "data": {
      "text/plain": [
       "0        9499\n",
       "1        8300\n",
       "2       10891\n",
       "3        6800\n",
       "4        5599\n",
       "        ...  \n",
       "1782    11142\n",
       "1783    11050\n",
       "1784    11050\n",
       "1785    10156\n",
       "1786    10156\n",
       "Name: RATE_SQFT, Length: 1787, dtype: object"
      ]
     },
     "execution_count": 35,
     "metadata": {},
     "output_type": "execute_result"
    }
   ],
   "source": [
    "df2[\"RATE_SQFT\"]"
   ]
  },
  {
   "cell_type": "code",
   "execution_count": 36,
   "id": "2457bbd8",
   "metadata": {},
   "outputs": [
    {
     "data": {
      "text/html": [
       "<div>\n",
       "<style scoped>\n",
       "    .dataframe tbody tr th:only-of-type {\n",
       "        vertical-align: middle;\n",
       "    }\n",
       "\n",
       "    .dataframe tbody tr th {\n",
       "        vertical-align: top;\n",
       "    }\n",
       "\n",
       "    .dataframe thead th {\n",
       "        text-align: right;\n",
       "    }\n",
       "</style>\n",
       "<table border=\"1\" class=\"dataframe\">\n",
       "  <thead>\n",
       "    <tr style=\"text-align: right;\">\n",
       "      <th></th>\n",
       "      <th>PRICE</th>\n",
       "      <th>PROPERTY_TYPE</th>\n",
       "    </tr>\n",
       "  </thead>\n",
       "  <tbody>\n",
       "    <tr>\n",
       "      <th>0</th>\n",
       "      <td>1.7700</td>\n",
       "      <td>Apartment</td>\n",
       "    </tr>\n",
       "    <tr>\n",
       "      <th>1</th>\n",
       "      <td>2.9700</td>\n",
       "      <td>Villa</td>\n",
       "    </tr>\n",
       "    <tr>\n",
       "      <th>2</th>\n",
       "      <td>4.0400</td>\n",
       "      <td>Apartment</td>\n",
       "    </tr>\n",
       "    <tr>\n",
       "      <th>3</th>\n",
       "      <td>1.4600</td>\n",
       "      <td>Apartment</td>\n",
       "    </tr>\n",
       "    <tr>\n",
       "      <th>4</th>\n",
       "      <td>0.7345</td>\n",
       "      <td>Apartment</td>\n",
       "    </tr>\n",
       "    <tr>\n",
       "      <th>...</th>\n",
       "      <td>...</td>\n",
       "      <td>...</td>\n",
       "    </tr>\n",
       "    <tr>\n",
       "      <th>1782</th>\n",
       "      <td>1.0800</td>\n",
       "      <td>Apartment</td>\n",
       "    </tr>\n",
       "    <tr>\n",
       "      <th>1783</th>\n",
       "      <td>1.0200</td>\n",
       "      <td>Apartment</td>\n",
       "    </tr>\n",
       "    <tr>\n",
       "      <th>1784</th>\n",
       "      <td>1.0200</td>\n",
       "      <td>Apartment</td>\n",
       "    </tr>\n",
       "    <tr>\n",
       "      <th>1785</th>\n",
       "      <td>0.8561</td>\n",
       "      <td>Apartment</td>\n",
       "    </tr>\n",
       "    <tr>\n",
       "      <th>1786</th>\n",
       "      <td>0.8561</td>\n",
       "      <td>Apartment</td>\n",
       "    </tr>\n",
       "  </tbody>\n",
       "</table>\n",
       "<p>1787 rows × 2 columns</p>\n",
       "</div>"
      ],
      "text/plain": [
       "       PRICE PROPERTY_TYPE\n",
       "0     1.7700     Apartment\n",
       "1     2.9700         Villa\n",
       "2     4.0400     Apartment\n",
       "3     1.4600     Apartment\n",
       "4     0.7345     Apartment\n",
       "...      ...           ...\n",
       "1782  1.0800     Apartment\n",
       "1783  1.0200     Apartment\n",
       "1784  1.0200     Apartment\n",
       "1785  0.8561     Apartment\n",
       "1786  0.8561     Apartment\n",
       "\n",
       "[1787 rows x 2 columns]"
      ]
     },
     "execution_count": 36,
     "metadata": {},
     "output_type": "execute_result"
    }
   ],
   "source": [
    "df2[[\"PRICE\",\"PROPERTY_TYPE\"]]"
   ]
  },
  {
   "cell_type": "code",
   "execution_count": 37,
   "id": "240cbfd5",
   "metadata": {},
   "outputs": [
    {
     "data": {
      "text/plain": [
       "<pandas.core.groupby.generic.DataFrameGroupBy object at 0x000002069E1F3310>"
      ]
     },
     "execution_count": 37,
     "metadata": {},
     "output_type": "execute_result"
    }
   ],
   "source": [
    "df2.groupby([\"CITY\",\"PROPERTY_TYPE\"])"
   ]
  },
  {
   "cell_type": "code",
   "execution_count": 38,
   "id": "864ad432",
   "metadata": {},
   "outputs": [],
   "source": [
    "df2=df2.drop(columns=\"Unnamed: 0\")"
   ]
  },
  {
   "cell_type": "code",
   "execution_count": 39,
   "id": "fb0ba9d0",
   "metadata": {},
   "outputs": [
    {
     "data": {
      "text/html": [
       "<div>\n",
       "<style scoped>\n",
       "    .dataframe tbody tr th:only-of-type {\n",
       "        vertical-align: middle;\n",
       "    }\n",
       "\n",
       "    .dataframe tbody tr th {\n",
       "        vertical-align: top;\n",
       "    }\n",
       "\n",
       "    .dataframe thead th {\n",
       "        text-align: right;\n",
       "    }\n",
       "</style>\n",
       "<table border=\"1\" class=\"dataframe\">\n",
       "  <thead>\n",
       "    <tr style=\"text-align: right;\">\n",
       "      <th></th>\n",
       "      <th>BUILDERS</th>\n",
       "      <th>SIZE</th>\n",
       "      <th>PROPERTY_TYPE</th>\n",
       "      <th>PROPERTY_ADDRESS</th>\n",
       "      <th>CITY</th>\n",
       "      <th>AREA</th>\n",
       "      <th>RATE_SQFT</th>\n",
       "      <th>PRICE</th>\n",
       "      <th>CONSTRUCTION_STATUS</th>\n",
       "      <th>LISTED_BY</th>\n",
       "    </tr>\n",
       "  </thead>\n",
       "  <tbody>\n",
       "    <tr>\n",
       "      <th>0</th>\n",
       "      <td>Ashoka Builders India Private LimitedBUILDER0</td>\n",
       "      <td>3 BHK</td>\n",
       "      <td>Apartment</td>\n",
       "      <td>Nanakramguda</td>\n",
       "      <td>Hyderabad</td>\n",
       "      <td>1870</td>\n",
       "      <td>9499</td>\n",
       "      <td>1.7700</td>\n",
       "      <td>Under Construction</td>\n",
       "      <td>BUILDER</td>\n",
       "    </tr>\n",
       "    <tr>\n",
       "      <th>1</th>\n",
       "      <td>Sunyuga Infra Pvt LtdBUILDER0</td>\n",
       "      <td>4 BHK</td>\n",
       "      <td>Villa</td>\n",
       "      <td>Gundlapochampally</td>\n",
       "      <td>Hyderabad</td>\n",
       "      <td>3587</td>\n",
       "      <td>8300</td>\n",
       "      <td>2.9700</td>\n",
       "      <td>Under Construction</td>\n",
       "      <td>BUILDER</td>\n",
       "    </tr>\n",
       "    <tr>\n",
       "      <th>2</th>\n",
       "      <td>Raghuram Pradeep Constructions India LLPBUILDER0</td>\n",
       "      <td>4 BHK</td>\n",
       "      <td>Apartment</td>\n",
       "      <td>Puppalaguda</td>\n",
       "      <td>Hyderabad</td>\n",
       "      <td>3715</td>\n",
       "      <td>10891</td>\n",
       "      <td>4.0400</td>\n",
       "      <td>Under Construction</td>\n",
       "      <td>BUILDER</td>\n",
       "    </tr>\n",
       "    <tr>\n",
       "      <th>3</th>\n",
       "      <td>Kalyan Infra ProjectsBUILDER0</td>\n",
       "      <td>3 BHK</td>\n",
       "      <td>Apartment</td>\n",
       "      <td>Manchirevula</td>\n",
       "      <td>Hyderabad</td>\n",
       "      <td>2150</td>\n",
       "      <td>6800</td>\n",
       "      <td>1.4600</td>\n",
       "      <td>Ready to move</td>\n",
       "      <td>BUILDER</td>\n",
       "    </tr>\n",
       "    <tr>\n",
       "      <th>4</th>\n",
       "      <td>Risinia BuildersBUILDER0</td>\n",
       "      <td>2 BHK</td>\n",
       "      <td>Apartment</td>\n",
       "      <td>Pragathi</td>\n",
       "      <td>Hyderabad</td>\n",
       "      <td>1312</td>\n",
       "      <td>5599</td>\n",
       "      <td>0.7345</td>\n",
       "      <td>Under Construction</td>\n",
       "      <td>BUILDER</td>\n",
       "    </tr>\n",
       "    <tr>\n",
       "      <th>...</th>\n",
       "      <td>...</td>\n",
       "      <td>...</td>\n",
       "      <td>...</td>\n",
       "      <td>...</td>\n",
       "      <td>...</td>\n",
       "      <td>...</td>\n",
       "      <td>...</td>\n",
       "      <td>...</td>\n",
       "      <td>...</td>\n",
       "      <td>...</td>\n",
       "    </tr>\n",
       "    <tr>\n",
       "      <th>1782</th>\n",
       "      <td>Full Basket property services Pvt ltdAGENT0</td>\n",
       "      <td>2 BHK</td>\n",
       "      <td>Apartment</td>\n",
       "      <td>Sholinganallur</td>\n",
       "      <td>Chennai</td>\n",
       "      <td>976</td>\n",
       "      <td>11142</td>\n",
       "      <td>1.0800</td>\n",
       "      <td>Ready to move</td>\n",
       "      <td>AGENT</td>\n",
       "    </tr>\n",
       "    <tr>\n",
       "      <th>1783</th>\n",
       "      <td>Full Basket property services Pvt ltdAGENT0</td>\n",
       "      <td>2 BHK</td>\n",
       "      <td>Apartment</td>\n",
       "      <td>Sholinganallur</td>\n",
       "      <td>Chennai</td>\n",
       "      <td>923</td>\n",
       "      <td>11050</td>\n",
       "      <td>1.0200</td>\n",
       "      <td>Ready to move</td>\n",
       "      <td>AGENT</td>\n",
       "    </tr>\n",
       "    <tr>\n",
       "      <th>1784</th>\n",
       "      <td>Full Basket property services Pvt ltdAGENT0</td>\n",
       "      <td>2 BHK</td>\n",
       "      <td>Apartment</td>\n",
       "      <td>Sholinganallur</td>\n",
       "      <td>Chennai</td>\n",
       "      <td>923</td>\n",
       "      <td>11050</td>\n",
       "      <td>1.0200</td>\n",
       "      <td>Ready to move</td>\n",
       "      <td>AGENT</td>\n",
       "    </tr>\n",
       "    <tr>\n",
       "      <th>1785</th>\n",
       "      <td>Full Basket property services Pvt ltdAGENT0</td>\n",
       "      <td>2 BHK</td>\n",
       "      <td>Apartment</td>\n",
       "      <td>Sholinganallur</td>\n",
       "      <td>Chennai</td>\n",
       "      <td>843</td>\n",
       "      <td>10156</td>\n",
       "      <td>0.8561</td>\n",
       "      <td>Ready to move</td>\n",
       "      <td>AGENT</td>\n",
       "    </tr>\n",
       "    <tr>\n",
       "      <th>1786</th>\n",
       "      <td>Full Basket property services Pvt ltdAGENT0</td>\n",
       "      <td>2 BHK</td>\n",
       "      <td>Apartment</td>\n",
       "      <td>Sholinganallur</td>\n",
       "      <td>Chennai</td>\n",
       "      <td>843</td>\n",
       "      <td>10156</td>\n",
       "      <td>0.8561</td>\n",
       "      <td>Ready to move</td>\n",
       "      <td>AGENT</td>\n",
       "    </tr>\n",
       "  </tbody>\n",
       "</table>\n",
       "<p>1787 rows × 10 columns</p>\n",
       "</div>"
      ],
      "text/plain": [
       "                                              BUILDERS   SIZE PROPERTY_TYPE  \\\n",
       "0        Ashoka Builders India Private LimitedBUILDER0  3 BHK     Apartment   \n",
       "1                        Sunyuga Infra Pvt LtdBUILDER0  4 BHK         Villa   \n",
       "2     Raghuram Pradeep Constructions India LLPBUILDER0  4 BHK     Apartment   \n",
       "3                        Kalyan Infra ProjectsBUILDER0  3 BHK     Apartment   \n",
       "4                             Risinia BuildersBUILDER0  2 BHK     Apartment   \n",
       "...                                                ...    ...           ...   \n",
       "1782       Full Basket property services Pvt ltdAGENT0  2 BHK     Apartment   \n",
       "1783       Full Basket property services Pvt ltdAGENT0  2 BHK     Apartment   \n",
       "1784       Full Basket property services Pvt ltdAGENT0  2 BHK     Apartment   \n",
       "1785       Full Basket property services Pvt ltdAGENT0  2 BHK     Apartment   \n",
       "1786       Full Basket property services Pvt ltdAGENT0  2 BHK     Apartment   \n",
       "\n",
       "       PROPERTY_ADDRESS       CITY  AREA RATE_SQFT   PRICE  \\\n",
       "0          Nanakramguda  Hyderabad  1870      9499  1.7700   \n",
       "1     Gundlapochampally  Hyderabad  3587      8300  2.9700   \n",
       "2           Puppalaguda  Hyderabad  3715     10891  4.0400   \n",
       "3          Manchirevula  Hyderabad  2150      6800  1.4600   \n",
       "4              Pragathi  Hyderabad  1312      5599  0.7345   \n",
       "...                 ...        ...   ...       ...     ...   \n",
       "1782     Sholinganallur    Chennai   976     11142  1.0800   \n",
       "1783     Sholinganallur    Chennai   923     11050  1.0200   \n",
       "1784     Sholinganallur    Chennai   923     11050  1.0200   \n",
       "1785     Sholinganallur    Chennai   843     10156  0.8561   \n",
       "1786     Sholinganallur    Chennai   843     10156  0.8561   \n",
       "\n",
       "     CONSTRUCTION_STATUS LISTED_BY  \n",
       "0     Under Construction   BUILDER  \n",
       "1     Under Construction   BUILDER  \n",
       "2     Under Construction   BUILDER  \n",
       "3          Ready to move   BUILDER  \n",
       "4     Under Construction   BUILDER  \n",
       "...                  ...       ...  \n",
       "1782       Ready to move     AGENT  \n",
       "1783       Ready to move     AGENT  \n",
       "1784       Ready to move     AGENT  \n",
       "1785       Ready to move     AGENT  \n",
       "1786       Ready to move     AGENT  \n",
       "\n",
       "[1787 rows x 10 columns]"
      ]
     },
     "execution_count": 39,
     "metadata": {},
     "output_type": "execute_result"
    }
   ],
   "source": [
    "df2"
   ]
  },
  {
   "cell_type": "code",
   "execution_count": 40,
   "id": "1a453732",
   "metadata": {},
   "outputs": [],
   "source": [
    "#df2.to_csv(\"READY_TO_ANALYSIS.csv\")"
   ]
  },
  {
   "cell_type": "code",
   "execution_count": 41,
   "id": "47ba63bc",
   "metadata": {},
   "outputs": [
    {
     "data": {
      "text/plain": [
       "58.92557358701735"
      ]
     },
     "execution_count": 41,
     "metadata": {},
     "output_type": "execute_result"
    }
   ],
   "source": [
    "(len(df2[df2[\"CONSTRUCTION_STATUS\"]=='Under Construction'])/len(df2[\"CONSTRUCTION_STATUS\"]))*100"
   ]
  },
  {
   "cell_type": "code",
   "execution_count": 42,
   "id": "764e3158",
   "metadata": {},
   "outputs": [
    {
     "data": {
      "text/plain": [
       "41.07442641298265"
      ]
     },
     "execution_count": 42,
     "metadata": {},
     "output_type": "execute_result"
    }
   ],
   "source": [
    "(len(df2[df2[\"CONSTRUCTION_STATUS\"]=='Ready to move'])/len(df2[\"CONSTRUCTION_STATUS\"]))*100"
   ]
  },
  {
   "cell_type": "code",
   "execution_count": 43,
   "id": "e781cedc",
   "metadata": {},
   "outputs": [
    {
     "data": {
      "text/plain": [
       "CITY       BUILDERS                                 \n",
       "Bangalore  ProptigerCity Expert â§ AGENT4.81 Rating    169\n",
       "           ProptigerAGENT0                               66\n",
       "           Prop UrbanAGENT4.5                            28\n",
       "           NSR VenturesAGENT0                            12\n",
       "           Jhp InfraAGENT3.3                             10\n",
       "                                                       ... \n",
       "Mumbai     Seeds Realty InvestmentsAGENT0                 1\n",
       "           Shree Siddhivinayak Real EstateAGENT0          1\n",
       "           Millennium RealtorsAGENT0                      1\n",
       "           A to Z Real Estate CompanyAGENT0               1\n",
       "           Aasco RealtyAGENT0                             1\n",
       "Name: count, Length: 127, dtype: int64"
      ]
     },
     "execution_count": 43,
     "metadata": {},
     "output_type": "execute_result"
    }
   ],
   "source": [
    "df2.groupby([\"CITY\"])[\"BUILDERS\"].value_counts()"
   ]
  },
  {
   "cell_type": "code",
   "execution_count": 44,
   "id": "69254c1e",
   "metadata": {},
   "outputs": [
    {
     "data": {
      "text/plain": [
       "Index(['BUILDERS', 'SIZE', 'PROPERTY_TYPE', 'PROPERTY_ADDRESS', 'CITY', 'AREA',\n",
       "       'RATE_SQFT', 'PRICE', 'CONSTRUCTION_STATUS', 'LISTED_BY'],\n",
       "      dtype='object')"
      ]
     },
     "execution_count": 44,
     "metadata": {},
     "output_type": "execute_result"
    }
   ],
   "source": [
    "df2.columns"
   ]
  },
  {
   "cell_type": "code",
   "execution_count": 45,
   "id": "e9bed70d",
   "metadata": {},
   "outputs": [
    {
     "data": {
      "text/plain": [
       "230"
      ]
     },
     "execution_count": 45,
     "metadata": {},
     "output_type": "execute_result"
    }
   ],
   "source": [
    "df2.duplicated().sum()"
   ]
  },
  {
   "cell_type": "code",
   "execution_count": 46,
   "id": "0eb27edc",
   "metadata": {},
   "outputs": [
    {
     "data": {
      "text/plain": [
       "1787"
      ]
     },
     "execution_count": 46,
     "metadata": {},
     "output_type": "execute_result"
    }
   ],
   "source": [
    "len(df2)"
   ]
  },
  {
   "cell_type": "code",
   "execution_count": 47,
   "id": "0ef8e4da",
   "metadata": {
    "scrolled": true
   },
   "outputs": [
    {
     "name": "stdout",
     "output_type": "stream",
     "text": [
      "<class 'pandas.core.frame.DataFrame'>\n",
      "RangeIndex: 1787 entries, 0 to 1786\n",
      "Data columns (total 10 columns):\n",
      " #   Column               Non-Null Count  Dtype  \n",
      "---  ------               --------------  -----  \n",
      " 0   BUILDERS             1787 non-null   object \n",
      " 1   SIZE                 1787 non-null   object \n",
      " 2   PROPERTY_TYPE        1787 non-null   object \n",
      " 3   PROPERTY_ADDRESS     1787 non-null   object \n",
      " 4   CITY                 1787 non-null   object \n",
      " 5   AREA                 1787 non-null   int64  \n",
      " 6   RATE_SQFT            1787 non-null   object \n",
      " 7   PRICE                1787 non-null   float64\n",
      " 8   CONSTRUCTION_STATUS  1787 non-null   object \n",
      " 9   LISTED_BY            1787 non-null   object \n",
      "dtypes: float64(1), int64(1), object(8)\n",
      "memory usage: 139.7+ KB\n"
     ]
    }
   ],
   "source": [
    "df2.info()"
   ]
  },
  {
   "cell_type": "code",
   "execution_count": 48,
   "id": "2f65278b",
   "metadata": {},
   "outputs": [],
   "source": [
    "df2[\"SIZE\"]=df2[\"SIZE\"].str.split(\" \")"
   ]
  },
  {
   "cell_type": "code",
   "execution_count": 49,
   "id": "af6a70a9",
   "metadata": {},
   "outputs": [],
   "source": [
    "df2[\"SIZE\"] = df2[\"SIZE\"].apply(lambda x:int(x[0]))"
   ]
  },
  {
   "cell_type": "code",
   "execution_count": 50,
   "id": "a2c7ca56",
   "metadata": {},
   "outputs": [
    {
     "data": {
      "text/plain": [
       "0       3\n",
       "1       4\n",
       "2       4\n",
       "3       3\n",
       "4       2\n",
       "       ..\n",
       "1782    2\n",
       "1783    2\n",
       "1784    2\n",
       "1785    2\n",
       "1786    2\n",
       "Name: SIZE, Length: 1787, dtype: int64"
      ]
     },
     "execution_count": 50,
     "metadata": {},
     "output_type": "execute_result"
    }
   ],
   "source": [
    "df2[\"SIZE\"]"
   ]
  },
  {
   "cell_type": "code",
   "execution_count": 51,
   "id": "878d42a0",
   "metadata": {},
   "outputs": [],
   "source": [
    "import pandas as pd\n",
    "import re\n",
    "\n",
    "def contains_digits(string):\n",
    "    return bool(re.search(r'\\d', string))\n",
    "\n",
    "df2[\"RATE_SQFT\"] = df2[\"RATE_SQFT\"].apply(lambda x: int(x) if contains_digits(x) and x != 'price' else 0)\n"
   ]
  },
  {
   "cell_type": "code",
   "execution_count": 52,
   "id": "06e6e7f4",
   "metadata": {},
   "outputs": [
    {
     "name": "stdout",
     "output_type": "stream",
     "text": [
      "<class 'pandas.core.series.Series'>\n",
      "RangeIndex: 1787 entries, 0 to 1786\n",
      "Series name: RATE_SQFT\n",
      "Non-Null Count  Dtype\n",
      "--------------  -----\n",
      "1787 non-null   int64\n",
      "dtypes: int64(1)\n",
      "memory usage: 14.1 KB\n"
     ]
    }
   ],
   "source": [
    "df2[\"RATE_SQFT\"].info()"
   ]
  },
  {
   "cell_type": "code",
   "execution_count": 53,
   "id": "73aaf9d9",
   "metadata": {},
   "outputs": [
    {
     "name": "stdout",
     "output_type": "stream",
     "text": [
      "<class 'pandas.core.frame.DataFrame'>\n",
      "RangeIndex: 1787 entries, 0 to 1786\n",
      "Data columns (total 10 columns):\n",
      " #   Column               Non-Null Count  Dtype  \n",
      "---  ------               --------------  -----  \n",
      " 0   BUILDERS             1787 non-null   object \n",
      " 1   SIZE                 1787 non-null   int64  \n",
      " 2   PROPERTY_TYPE        1787 non-null   object \n",
      " 3   PROPERTY_ADDRESS     1787 non-null   object \n",
      " 4   CITY                 1787 non-null   object \n",
      " 5   AREA                 1787 non-null   int64  \n",
      " 6   RATE_SQFT            1787 non-null   int64  \n",
      " 7   PRICE                1787 non-null   float64\n",
      " 8   CONSTRUCTION_STATUS  1787 non-null   object \n",
      " 9   LISTED_BY            1787 non-null   object \n",
      "dtypes: float64(1), int64(3), object(6)\n",
      "memory usage: 139.7+ KB\n"
     ]
    }
   ],
   "source": [
    "df2.info()"
   ]
  },
  {
   "cell_type": "code",
   "execution_count": 54,
   "id": "e089c7e3",
   "metadata": {},
   "outputs": [
    {
     "data": {
      "text/html": [
       "<div>\n",
       "<style scoped>\n",
       "    .dataframe tbody tr th:only-of-type {\n",
       "        vertical-align: middle;\n",
       "    }\n",
       "\n",
       "    .dataframe tbody tr th {\n",
       "        vertical-align: top;\n",
       "    }\n",
       "\n",
       "    .dataframe thead th {\n",
       "        text-align: right;\n",
       "    }\n",
       "</style>\n",
       "<table border=\"1\" class=\"dataframe\">\n",
       "  <thead>\n",
       "    <tr style=\"text-align: right;\">\n",
       "      <th></th>\n",
       "      <th>BUILDERS</th>\n",
       "      <th>SIZE</th>\n",
       "      <th>PROPERTY_TYPE</th>\n",
       "      <th>PROPERTY_ADDRESS</th>\n",
       "      <th>CITY</th>\n",
       "      <th>AREA</th>\n",
       "      <th>RATE_SQFT</th>\n",
       "      <th>PRICE</th>\n",
       "      <th>CONSTRUCTION_STATUS</th>\n",
       "      <th>LISTED_BY</th>\n",
       "    </tr>\n",
       "  </thead>\n",
       "  <tbody>\n",
       "    <tr>\n",
       "      <th>0</th>\n",
       "      <td>Ashoka Builders India Private LimitedBUILDER0</td>\n",
       "      <td>3</td>\n",
       "      <td>Apartment</td>\n",
       "      <td>Nanakramguda</td>\n",
       "      <td>Hyderabad</td>\n",
       "      <td>1870</td>\n",
       "      <td>9499</td>\n",
       "      <td>1.7700</td>\n",
       "      <td>Under Construction</td>\n",
       "      <td>BUILDER</td>\n",
       "    </tr>\n",
       "    <tr>\n",
       "      <th>1</th>\n",
       "      <td>Sunyuga Infra Pvt LtdBUILDER0</td>\n",
       "      <td>4</td>\n",
       "      <td>Villa</td>\n",
       "      <td>Gundlapochampally</td>\n",
       "      <td>Hyderabad</td>\n",
       "      <td>3587</td>\n",
       "      <td>8300</td>\n",
       "      <td>2.9700</td>\n",
       "      <td>Under Construction</td>\n",
       "      <td>BUILDER</td>\n",
       "    </tr>\n",
       "    <tr>\n",
       "      <th>2</th>\n",
       "      <td>Raghuram Pradeep Constructions India LLPBUILDER0</td>\n",
       "      <td>4</td>\n",
       "      <td>Apartment</td>\n",
       "      <td>Puppalaguda</td>\n",
       "      <td>Hyderabad</td>\n",
       "      <td>3715</td>\n",
       "      <td>10891</td>\n",
       "      <td>4.0400</td>\n",
       "      <td>Under Construction</td>\n",
       "      <td>BUILDER</td>\n",
       "    </tr>\n",
       "    <tr>\n",
       "      <th>3</th>\n",
       "      <td>Kalyan Infra ProjectsBUILDER0</td>\n",
       "      <td>3</td>\n",
       "      <td>Apartment</td>\n",
       "      <td>Manchirevula</td>\n",
       "      <td>Hyderabad</td>\n",
       "      <td>2150</td>\n",
       "      <td>6800</td>\n",
       "      <td>1.4600</td>\n",
       "      <td>Ready to move</td>\n",
       "      <td>BUILDER</td>\n",
       "    </tr>\n",
       "    <tr>\n",
       "      <th>4</th>\n",
       "      <td>Risinia BuildersBUILDER0</td>\n",
       "      <td>2</td>\n",
       "      <td>Apartment</td>\n",
       "      <td>Pragathi</td>\n",
       "      <td>Hyderabad</td>\n",
       "      <td>1312</td>\n",
       "      <td>5599</td>\n",
       "      <td>0.7345</td>\n",
       "      <td>Under Construction</td>\n",
       "      <td>BUILDER</td>\n",
       "    </tr>\n",
       "    <tr>\n",
       "      <th>...</th>\n",
       "      <td>...</td>\n",
       "      <td>...</td>\n",
       "      <td>...</td>\n",
       "      <td>...</td>\n",
       "      <td>...</td>\n",
       "      <td>...</td>\n",
       "      <td>...</td>\n",
       "      <td>...</td>\n",
       "      <td>...</td>\n",
       "      <td>...</td>\n",
       "    </tr>\n",
       "    <tr>\n",
       "      <th>1782</th>\n",
       "      <td>Full Basket property services Pvt ltdAGENT0</td>\n",
       "      <td>2</td>\n",
       "      <td>Apartment</td>\n",
       "      <td>Sholinganallur</td>\n",
       "      <td>Chennai</td>\n",
       "      <td>976</td>\n",
       "      <td>11142</td>\n",
       "      <td>1.0800</td>\n",
       "      <td>Ready to move</td>\n",
       "      <td>AGENT</td>\n",
       "    </tr>\n",
       "    <tr>\n",
       "      <th>1783</th>\n",
       "      <td>Full Basket property services Pvt ltdAGENT0</td>\n",
       "      <td>2</td>\n",
       "      <td>Apartment</td>\n",
       "      <td>Sholinganallur</td>\n",
       "      <td>Chennai</td>\n",
       "      <td>923</td>\n",
       "      <td>11050</td>\n",
       "      <td>1.0200</td>\n",
       "      <td>Ready to move</td>\n",
       "      <td>AGENT</td>\n",
       "    </tr>\n",
       "    <tr>\n",
       "      <th>1784</th>\n",
       "      <td>Full Basket property services Pvt ltdAGENT0</td>\n",
       "      <td>2</td>\n",
       "      <td>Apartment</td>\n",
       "      <td>Sholinganallur</td>\n",
       "      <td>Chennai</td>\n",
       "      <td>923</td>\n",
       "      <td>11050</td>\n",
       "      <td>1.0200</td>\n",
       "      <td>Ready to move</td>\n",
       "      <td>AGENT</td>\n",
       "    </tr>\n",
       "    <tr>\n",
       "      <th>1785</th>\n",
       "      <td>Full Basket property services Pvt ltdAGENT0</td>\n",
       "      <td>2</td>\n",
       "      <td>Apartment</td>\n",
       "      <td>Sholinganallur</td>\n",
       "      <td>Chennai</td>\n",
       "      <td>843</td>\n",
       "      <td>10156</td>\n",
       "      <td>0.8561</td>\n",
       "      <td>Ready to move</td>\n",
       "      <td>AGENT</td>\n",
       "    </tr>\n",
       "    <tr>\n",
       "      <th>1786</th>\n",
       "      <td>Full Basket property services Pvt ltdAGENT0</td>\n",
       "      <td>2</td>\n",
       "      <td>Apartment</td>\n",
       "      <td>Sholinganallur</td>\n",
       "      <td>Chennai</td>\n",
       "      <td>843</td>\n",
       "      <td>10156</td>\n",
       "      <td>0.8561</td>\n",
       "      <td>Ready to move</td>\n",
       "      <td>AGENT</td>\n",
       "    </tr>\n",
       "  </tbody>\n",
       "</table>\n",
       "<p>1787 rows × 10 columns</p>\n",
       "</div>"
      ],
      "text/plain": [
       "                                              BUILDERS  SIZE PROPERTY_TYPE  \\\n",
       "0        Ashoka Builders India Private LimitedBUILDER0     3     Apartment   \n",
       "1                        Sunyuga Infra Pvt LtdBUILDER0     4         Villa   \n",
       "2     Raghuram Pradeep Constructions India LLPBUILDER0     4     Apartment   \n",
       "3                        Kalyan Infra ProjectsBUILDER0     3     Apartment   \n",
       "4                             Risinia BuildersBUILDER0     2     Apartment   \n",
       "...                                                ...   ...           ...   \n",
       "1782       Full Basket property services Pvt ltdAGENT0     2     Apartment   \n",
       "1783       Full Basket property services Pvt ltdAGENT0     2     Apartment   \n",
       "1784       Full Basket property services Pvt ltdAGENT0     2     Apartment   \n",
       "1785       Full Basket property services Pvt ltdAGENT0     2     Apartment   \n",
       "1786       Full Basket property services Pvt ltdAGENT0     2     Apartment   \n",
       "\n",
       "       PROPERTY_ADDRESS       CITY  AREA  RATE_SQFT   PRICE  \\\n",
       "0          Nanakramguda  Hyderabad  1870       9499  1.7700   \n",
       "1     Gundlapochampally  Hyderabad  3587       8300  2.9700   \n",
       "2           Puppalaguda  Hyderabad  3715      10891  4.0400   \n",
       "3          Manchirevula  Hyderabad  2150       6800  1.4600   \n",
       "4              Pragathi  Hyderabad  1312       5599  0.7345   \n",
       "...                 ...        ...   ...        ...     ...   \n",
       "1782     Sholinganallur    Chennai   976      11142  1.0800   \n",
       "1783     Sholinganallur    Chennai   923      11050  1.0200   \n",
       "1784     Sholinganallur    Chennai   923      11050  1.0200   \n",
       "1785     Sholinganallur    Chennai   843      10156  0.8561   \n",
       "1786     Sholinganallur    Chennai   843      10156  0.8561   \n",
       "\n",
       "     CONSTRUCTION_STATUS LISTED_BY  \n",
       "0     Under Construction   BUILDER  \n",
       "1     Under Construction   BUILDER  \n",
       "2     Under Construction   BUILDER  \n",
       "3          Ready to move   BUILDER  \n",
       "4     Under Construction   BUILDER  \n",
       "...                  ...       ...  \n",
       "1782       Ready to move     AGENT  \n",
       "1783       Ready to move     AGENT  \n",
       "1784       Ready to move     AGENT  \n",
       "1785       Ready to move     AGENT  \n",
       "1786       Ready to move     AGENT  \n",
       "\n",
       "[1787 rows x 10 columns]"
      ]
     },
     "execution_count": 54,
     "metadata": {},
     "output_type": "execute_result"
    }
   ],
   "source": [
    "df2"
   ]
  },
  {
   "cell_type": "code",
   "execution_count": 56,
   "id": "2113f4a8",
   "metadata": {},
   "outputs": [],
   "source": [
    "df2.to_csv(\"csv_after_cleaning_for_data_analysis_and_viz.csv\")"
   ]
  },
  {
   "cell_type": "code",
   "execution_count": null,
   "id": "c83ad430",
   "metadata": {},
   "outputs": [],
   "source": []
  }
 ],
 "metadata": {
  "kernelspec": {
   "display_name": "Python 3 (ipykernel)",
   "language": "python",
   "name": "python3"
  },
  "language_info": {
   "codemirror_mode": {
    "name": "ipython",
    "version": 3
   },
   "file_extension": ".py",
   "mimetype": "text/x-python",
   "name": "python",
   "nbconvert_exporter": "python",
   "pygments_lexer": "ipython3",
   "version": "3.11.5"
  }
 },
 "nbformat": 4,
 "nbformat_minor": 5
}
